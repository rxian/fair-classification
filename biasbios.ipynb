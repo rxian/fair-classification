{
 "cells": [
  {
   "cell_type": "code",
   "execution_count": 1,
   "id": "781d3931",
   "metadata": {
    "execution": {
     "iopub.execute_input": "2023-04-27T03:32:31.743818Z",
     "iopub.status.busy": "2023-04-27T03:32:31.743064Z",
     "iopub.status.idle": "2023-04-27T03:32:35.471455Z",
     "shell.execute_reply": "2023-04-27T03:32:35.470292Z"
    },
    "papermill": {
     "duration": 3.742422,
     "end_time": "2023-04-27T03:32:35.475524",
     "exception": false,
     "start_time": "2023-04-27T03:32:31.733102",
     "status": "completed"
    },
    "tags": []
   },
   "outputs": [],
   "source": [
    "from functools import partial\n",
    "from json import dumps\n",
    "import os\n",
    "import pickle\n",
    "import urllib.request\n",
    "\n",
    "import matplotlib.pyplot as plt\n",
    "import numpy as np\n",
    "import pandas as pd\n",
    "import datasets\n",
    "from datasets.utils.logging import disable_progress_bar\n",
    "from sklearn.feature_extraction.text import TfidfVectorizer\n",
    "import transformers\n",
    "import torch\n",
    "import tqdm\n",
    "from tqdm.contrib.concurrent import process_map\n",
    "\n",
    "import postprocess\n",
    "import utils\n",
    "\n",
    "split_ratio_for_test = 0.3\n",
    "split_ratio_for_postprocessing = 0.5  # among training data\n",
    "\n",
    "# The seeds control the randomness for the post-process/test split and in\n",
    "# postprocessing.  It does not affect pre-training data nor the randomness in\n",
    "# pre-training, i.e., we assume the pre-trained predictor to be fixed.  Results\n",
    "# will be aggregated over the seeds.\n",
    "seeds = range(33, 43)\n",
    "\n",
    "# This seed controls the randomness during pre-training (fixed).\n",
    "seed_for_pretraining = 33\n",
    "\n",
    "max_workers = 16\n",
    "device = torch.device(\"cuda\") if torch.cuda.is_available() else torch.device(\n",
    "    \"cpu\")\n",
    "\n",
    "model_dir = \"models/biasbios_cross_entropy_50\"\n",
    "data_dir = \"data/biasbios\"\n",
    "\n",
    "# BERT config\n",
    "model_name = \"bert-base-uncased\"\n",
    "n_epochs = 3\n",
    "batch_size = 32\n",
    "gradient_accumulation_steps = 1\n",
    "lr = 2e-5\n",
    "warmup_ratio = 0.1\n",
    "weight_decay = 0.01\n",
    "max_grad_norm = 1.0\n",
    "\n",
    "disable_progress_bar()\n",
    "transformers.set_seed(seed_for_pretraining)"
   ]
  },
  {
   "cell_type": "markdown",
   "id": "89ed9c7d",
   "metadata": {
    "papermill": {
     "duration": 0.005259,
     "end_time": "2023-04-27T03:32:35.489779",
     "exception": false,
     "start_time": "2023-04-27T03:32:35.484520",
     "status": "completed"
    },
    "tags": []
   },
   "source": [
    "## Download and load BiasBios dataset"
   ]
  },
  {
   "cell_type": "code",
   "execution_count": 2,
   "id": "a1993822",
   "metadata": {},
   "outputs": [
    {
     "name": "stdout",
     "output_type": "stream",
     "text": [
      "{237568, 229377, 122882, 241669, 188427, 90125, 208916, 94231, 208921, 262174, 331806, 28705, 57381, 90158, 131122, 122954, 32843, 61515, 4173, 155722, 200780, 41041, 12370, 262229, 184413, 53347, 168035, 114792, 127086, 16496, 86131, 143479, 258171, 127110, 114826, 4237, 65678, 282766, 336014, 65686, 86175, 336036, 16550, 41127, 16557, 28851, 204981, 53430, 20664, 45245, 94397, 147648, 295106, 106696, 4298, 368847, 16593, 49363, 331987, 176342, 209113, 221409, 356577, 49380, 147686, 102632, 299240, 98545, 94457, 151805, 221437, 61695, 127231, 360703, 114951, 123144, 303368, 28939, 57612, 160014, 74000, 90387, 139540, 20760, 209176, 131363, 299303, 151848, 160043, 20780, 86324, 172342, 143672, 364856, 16698, 98619, 57661, 78142, 229694, 184643, 254275, 160069, 53577, 82259, 102741, 90463, 106852, 135532, 57709, 74094, 37231, 143726, 377, 70015, 229763, 266627, 172423, 86408, 205193, 160138, 205196, 233869, 70034, 115091, 404, 217493, 389523, 164249, 188834, 420, 102823, 348589, 287157, 441, 78266, 176572, 152000, 4547, 221640, 287186, 74197, 98778, 66013, 29154, 78310, 123372, 176620, 221677, 303604, 111100, 147964, 57855, 29184, 274954, 180747, 90639, 213522, 12819, 21016, 61978, 49691, 188956, 229926, 143911, 33320, 102956, 74285, 148012, 12847, 62013, 148034, 303694, 189010, 21077, 90710, 49754, 164446, 172638, 41570, 148073, 98924, 94829, 49776, 57971, 62068, 66165, 160372, 74360, 221820, 209534, 184963, 217732, 21125, 156295, 164490, 287378, 119445, 4758, 205461, 131744, 25249, 8866, 180907, 254637, 103086, 12976, 262832, 275123, 144069, 82630, 123595, 205520, 13014, 74455, 21209, 8922, 733, 25312, 262882, 234216, 115433, 262888, 17131, 185068, 33527, 221950, 78592, 156417, 29446, 82695, 361224, 258825, 94988, 17165, 369425, 115474, 66326, 140058, 13098, 107319, 254776, 324408, 66362, 144193, 21320, 33610, 74572, 140114, 103252, 140117, 25430, 258903, 127835, 50012, 291680, 82789, 66410, 181100, 111476, 123764, 45943, 263037, 217986, 299913, 21388, 78732, 82831, 299927, 254873, 37788, 78753, 82856, 13227, 33708, 107436, 156587, 205740, 144304, 304047, 361390, 140215, 127929, 91082, 177099, 283596, 58319, 304084, 156633, 66523, 107483, 74726, 50154, 312301, 46063, 119795, 177141, 103426, 37891, 17414, 369675, 148506, 25629, 267293, 29735, 95271, 1070, 17455, 140342, 123961, 78906, 255035, 25660, 99392, 103488, 193604, 201797, 169033, 255056, 119891, 320595, 193624, 33881, 70755, 156773, 62568, 91242, 9325, 107631, 291963, 124029, 267389, 279679, 62593, 140429, 70798, 124050, 5268, 99477, 148628, 218263, 95395, 1192, 255148, 136365, 33969, 107699, 222389, 287932, 9406, 271557, 156877, 74959, 83151, 74968, 181474, 226534, 29930, 9451, 197868, 95471, 70913, 300296, 308489, 320776, 308495, 9491, 9496, 120091, 173342, 161059, 91430, 66860, 99634, 70969, 193854, 206145, 91463, 66894, 144720, 17751, 62807, 238937, 71005, 136559, 116082, 132469, 1398, 25979, 198015, 75141, 202118, 66953, 198027, 103820, 54671, 30111, 26022, 120247, 157111, 148923, 46526, 71103, 357824, 91584, 99775, 62915, 251329, 325063, 206280, 193993, 42446, 5587, 120275, 107989, 292310, 247259, 13792, 296416, 83428, 271844, 353766, 132590, 284153, 140794, 9723, 13822, 91646, 103936, 165378, 128517, 382469, 13831, 62983, 136716, 165391, 87570, 226842, 1563, 181788, 17955, 87588, 284195, 71208, 83500, 95793, 132657, 103989, 67127, 95799, 153145, 333371, 54852, 87627, 83544, 185949, 58974, 202335, 120416, 276061, 5752, 214649, 128637, 263807, 239234, 22147, 124550, 54921, 5771, 181904, 1684, 95895, 226968, 30362, 13997, 116403, 116405, 91834, 165562, 177850, 83654, 79559, 173766, 112330, 63180, 300753, 1746, 87769, 34522, 91869, 153309, 112354, 50924, 157426, 276211, 190200, 263928, 157438, 206590, 108288, 214784, 300800, 42758, 169734, 366344, 186126, 67343, 104217, 288537, 30494, 259870, 10018, 112424, 108330, 210731, 259885, 296750, 1842, 91955, 50998, 59191, 255799, 313143, 46926, 137039, 132947, 108379, 96094, 153439, 18274, 264034, 120679, 128873, 128874, 354155, 227180, 10096, 96113, 120688, 284531, 63353, 128889, 1916, 161661, 178045, 284542, 112519, 362383, 161684, 239514, 63389, 87965, 79777, 6051, 149413, 51127, 210873, 243641, 227259, 268230, 128971, 6095, 42959, 215000, 190439, 59375, 194543, 38899, 260090, 2047, 10245, 137231, 83986, 133140, 219160, 354339, 2084, 14372, 194596, 215080, 79915, 124978, 182326, 104507, 75837, 170045, 22600, 47180, 63570, 26711, 96345, 366698, 71793, 174193, 133235, 292977, 75910, 129164, 194704, 174225, 63634, 104608, 317608, 116905, 121003, 116908, 178361, 63675, 297154, 125126, 268489, 231628, 26829, 47310, 301261, 104657, 2260, 88276, 227542, 133338, 129243, 157917, 51423, 63712, 149729, 166112, 141546, 174316, 182508, 284911, 51440, 55538, 219383, 211204, 43269, 182534, 129289, 63756, 112910, 67860, 125206, 121111, 2332, 2333, 100644, 170283, 244011, 26927, 71986, 117045, 231736, 18747, 88387, 174407, 63821, 166222, 125266, 10579, 121178, 153953, 2408, 264556, 145784, 190843, 153982, 27007, 338303, 100737, 129409, 129419, 313753, 96666, 10654, 14750, 2467, 149926, 2471, 39336, 211368, 281004, 371123, 31159, 100791, 6589, 330173, 178623, 154053, 27082, 84430, 113103, 125394, 27099, 293340, 31197, 35295, 14818, 55780, 383465, 276970, 63980, 68076, 244208, 47603, 76276, 2550, 92662, 55803, 313851, 43517, 10749, 72206, 55827, 252436, 358941, 252451, 363047, 162346, 121405, 43585, 125509, 105038, 272975, 219728, 51796, 207444, 281190, 371305, 92783, 47735, 39546, 141946, 64127, 137864, 195212, 51853, 14990, 35473, 55960, 43678, 15008, 174755, 129700, 285359, 289461, 39609, 166589, 277183, 195264, 248525, 187091, 203477, 142039, 150231, 51929, 47834, 166620, 199391, 277217, 133863, 72425, 244458, 191213, 166639, 162547, 314100, 109302, 133878, 195318, 219894, 125690, 269049, 305913, 162560, 154369, 224003, 281354, 187148, 195342, 158479, 129808, 158491, 6940, 101149, 191259, 76583, 56105, 162601, 359217, 146226, 269108, 31542, 72502, 129850, 318278, 277320, 88907, 68431, 56153, 166746, 11100, 43872, 80741, 35686, 146278, 105325, 56178, 256883, 97140, 265083, 138109, 105348, 11141, 125830, 88967, 39817, 11153, 240531, 39832, 301977, 129947, 240539, 158630, 60328, 224170, 150444, 11184, 60341, 23479, 228289, 154567, 236490, 187339, 56269, 195534, 60368, 203730, 293851, 183264, 15337, 60408, 23550, 23555, 121861, 31753, 257037, 39951, 76815, 142360, 183325, 314399, 64544, 101428, 277558, 3127, 48183, 195639, 158781, 388157, 89151, 248901, 121938, 191573, 113761, 113762, 68712, 76905, 89193, 48235, 68716, 85099, 109676, 203880, 146544, 19570, 343154, 52341, 7289, 109690, 35963, 199808, 44166, 48266, 85132, 322705, 105621, 240791, 68760, 248984, 52385, 335013, 179370, 36012, 44206, 277680, 40114, 224436, 36022, 105654, 249015, 85177, 36026, 52410, 322746, 85187, 224460, 101583, 23760, 310488, 40154, 130273, 294115, 158948, 68837, 105702, 158949, 7405, 15597, 81141, 363774, 77063, 269578, 60684, 179471, 236820, 48411, 187677, 36132, 32049, 52531, 7478, 101686, 183607, 277816, 3387, 130366, 318787, 44360, 7499, 183633, 7506, 142680, 36187, 142683, 93536, 81254, 11623, 15719, 28007, 138601, 281959, 52595, 179579, 101756, 7552, 64896, 32130, 19846, 380295, 265608, 150922, 64908, 77201, 220561, 130455, 114075, 52640, 56749, 44465, 23998, 19906, 89542, 32210, 355794, 171477, 122330, 261598, 175587, 151016, 249322, 355818, 163310, 126447, 372211, 224758, 151032, 101882, 24061, 192003, 118277, 347653, 19982, 294415, 11808, 93729, 134695, 237095, 245289, 355884, 48687, 114224, 208437, 355898, 167490, 159300, 220741, 56903, 24152, 302682, 3675, 28252, 130653, 85603, 73316, 24167, 11883, 237164, 89712, 3708, 228988, 3710, 56958, 233086, 65158, 138886, 93835, 196236, 175761, 269969, 204435, 85657, 28320, 147107, 57001, 85674, 253624, 106182, 265927, 302798, 89813, 151260, 32479, 306913, 98020, 48870, 40681, 40684, 106223, 241391, 110321, 184049, 171765, 265977, 52992, 20226, 40706, 122626, 171780, 65288, 40714, 81677, 53008, 282387, 266004, 69396, 175893, 12054, 48918, 102168, 36633, 7963, 216859, 225051, 3870, 98086, 110378, 12079, 28464, 44851, 175924, 122686, 114497, 216897, 40771, 8006, 106312, 16202, 167757, 73552, 204624, 73561, 114521, 311131, 77660, 118620, 155491, 241510, 167785, 216945, 233329, 53110, 171896, 12153, 208761, 216960, 139137, 163716, 85896, 110476, 139152, 73617, 114585, 73627, 81821, 118685, 356259, 4010, 77746, 155573, 139192, 200634, 102340, 44998, 331723, 73676, 274386, 196566, 249819, 69604, 229349, 32742, 167912, 32746, 40938, 61422, 253937, 335859, 94199, 282618, 270333}\n",
      "{\n",
      "  \"bio\": \"male. He produced scores of films including such as al-Dhareeh (the shrine), 1976, winner of the Cinema Institute Films\\u2019 Award at the Documentary and Short Films Festival, Egypt, 1977; as well as the Kelibia Festival Award, Tunisia, 1978; al-Mahatta (The Station), winner of a major award at Oberhausen Short Film Festival, Germany, 1989; the EU Award at FESPACO Festival, Burkina Faso, 1990; The Silver Sword Award at Damascus festival, 1990; and The Silver Tanit Award, Carthage festival, Tunisia, 1991. Eltayeb has served as head of the Sudanese Film group for several terms and as secretary of the Sudanese Film club. He has written numerous articles on cinema, published in major Sudanese newspapers. He is currently working on a long fiction film, al-Siraj wal-attama (The Lantern and Darkness).\",\n",
      "  \"title\": 9,\n",
      "  \"gender\": 1\n",
      "}\n"
     ]
    }
   ],
   "source": [
    "label_names = [\n",
    "    \"accountant\", \"architect\", \"attorney\", \"chiropractor\", \"comedian\",\n",
    "    \"composer\", \"dentist\", \"dietitian\", \"dj\", \"filmmaker\", \"interior_designer\",\n",
    "    \"journalist\", \"model\", \"nurse\", \"painter\", \"paralegal\", \"pastor\",\n",
    "    \"personal_trainer\", \"photographer\", \"physician\", \"poet\", \"professor\",\n",
    "    \"psychologist\", \"rapper\", \"software_engineer\", \"surgeon\", \"teacher\",\n",
    "    \"yoga_teacher\"\n",
    "]\n",
    "n_classes = len(label_names)\n",
    "\n",
    "group_names = [\"female\", \"male\"]\n",
    "n_groups = len(group_names)\n",
    "\n",
    "features = datasets.Features({\n",
    "    \"bio\": datasets.Value(\"string\"),\n",
    "    \"title\": datasets.ClassLabel(names=label_names),\n",
    "    \"gender\": datasets.ClassLabel(names=group_names),\n",
    "})\n",
    "\n",
    "if not os.path.exists(f\"{data_dir}/deduplicated\"):\n",
    "\n",
    "  train_path = f\"{data_dir}/train.pickle\"\n",
    "  test_path = f\"{data_dir}/test.pickle\"\n",
    "  dev_path = f\"{data_dir}/dev.pickle\"\n",
    "  if any([not os.path.exists(p) for p in [train_path, test_path, dev_path]]):\n",
    "    os.makedirs(data_dir, exist_ok=True)\n",
    "    urllib.request.urlretrieve(\n",
    "        \"https://storage.googleapis.com/ai2i/nullspace/biasbios/train.pickle\",\n",
    "        train_path)\n",
    "    urllib.request.urlretrieve(\n",
    "        \"https://storage.googleapis.com/ai2i/nullspace/biasbios/test.pickle\",\n",
    "        test_path)\n",
    "    urllib.request.urlretrieve(\n",
    "        \"https://storage.googleapis.com/ai2i/nullspace/biasbios/dev.pickle\",\n",
    "        dev_path)\n",
    "\n",
    "  rows = {k: [] for k in features}\n",
    "  for split, path in zip([\"train\", \"test\", \"dev\"],\n",
    "                         [train_path, test_path, dev_path]):\n",
    "    with open(path, \"rb\") as pickle_file:\n",
    "      for row in pickle.load(pickle_file):\n",
    "        rows[\"gender\"].append(\"female\" if row[\"g\"] == \"f\" else \"male\")\n",
    "        rows[\"title\"].append(row[\"p\"])\n",
    "        rows[\"bio\"].append(rows[\"gender\"][-1] + \". \" +\n",
    "                           row[\"hard_text_untokenized\"])\n",
    "\n",
    "  # We remove duplicate bios from the dataset, and re-split it.\n",
    "  raw_dataset = datasets.Dataset.from_dict(rows, features=features)\n",
    "\n",
    "  vectorizer = TfidfVectorizer()\n",
    "  v = vectorizer.fit_transform(raw_dataset[\"bio\"])\n",
    "\n",
    "  def remove_duplicates(i):\n",
    "    if (v[i + 1:] @ v[i].T).max() > 0.98:\n",
    "      return i\n",
    "\n",
    "  rows_to_remove = process_map(\n",
    "      remove_duplicates,\n",
    "      range(v.shape[0] - 1),\n",
    "      chunksize=100,\n",
    "      max_workers=32,\n",
    "  )  # takes about an hour on 32 cores\n",
    "  rows_to_remove = set(rows_to_remove) - set([None])\n",
    "  print(rows_to_remove)\n",
    "\n",
    "  raw_dataset = raw_dataset.select(\n",
    "      [i for i in range(len(raw_dataset)) if i not in set(rows_to_remove)])\n",
    "  raw_dataset.save_to_disk(\"data/biasbios/deduplicated\")\n",
    "\n",
    "else:\n",
    "  raw_dataset = datasets.load_from_disk(\"data/biasbios/deduplicated\")\n",
    "\n",
    "print(dumps(raw_dataset[seed_for_pretraining], indent=2))"
   ]
  },
  {
   "cell_type": "code",
   "execution_count": 3,
   "id": "e9accb4c",
   "metadata": {
    "execution": {
     "iopub.execute_input": "2023-04-27T03:32:35.611851Z",
     "iopub.status.busy": "2023-04-27T03:32:35.610439Z",
     "iopub.status.idle": "2023-04-27T03:32:41.150169Z",
     "shell.execute_reply": "2023-04-27T03:32:41.148756Z"
    },
    "papermill": {
     "duration": 5.550285,
     "end_time": "2023-04-27T03:32:41.153175",
     "exception": false,
     "start_time": "2023-04-27T03:32:35.602890",
     "status": "completed"
    },
    "tags": []
   },
   "outputs": [
    {
     "name": "stdout",
     "output_type": "stream",
     "text": [
      "Dataset statistics:\n"
     ]
    },
    {
     "data": {
      "text/html": [
       "<div>\n",
       "<style scoped>\n",
       "    .dataframe tbody tr th:only-of-type {\n",
       "        vertical-align: middle;\n",
       "    }\n",
       "\n",
       "    .dataframe tbody tr th {\n",
       "        vertical-align: top;\n",
       "    }\n",
       "\n",
       "    .dataframe thead th {\n",
       "        text-align: right;\n",
       "    }\n",
       "</style>\n",
       "<table border=\"1\" class=\"dataframe\">\n",
       "  <thead>\n",
       "    <tr style=\"text-align: right;\">\n",
       "      <th>Group</th>\n",
       "      <th>female</th>\n",
       "      <th>male</th>\n",
       "    </tr>\n",
       "    <tr>\n",
       "      <th>Target</th>\n",
       "      <th></th>\n",
       "      <th></th>\n",
       "    </tr>\n",
       "  </thead>\n",
       "  <tbody>\n",
       "    <tr>\n",
       "      <th>accountant</th>\n",
       "      <td>0.011413</td>\n",
       "      <td>0.016915</td>\n",
       "    </tr>\n",
       "    <tr>\n",
       "      <th>architect</th>\n",
       "      <td>0.013191</td>\n",
       "      <td>0.036488</td>\n",
       "    </tr>\n",
       "    <tr>\n",
       "      <th>attorney</th>\n",
       "      <td>0.068388</td>\n",
       "      <td>0.095184</td>\n",
       "    </tr>\n",
       "    <tr>\n",
       "      <th>chiropractor</th>\n",
       "      <td>0.003766</td>\n",
       "      <td>0.008773</td>\n",
       "    </tr>\n",
       "    <tr>\n",
       "      <th>comedian</th>\n",
       "      <td>0.003248</td>\n",
       "      <td>0.010449</td>\n",
       "    </tr>\n",
       "    <tr>\n",
       "      <th>composer</th>\n",
       "      <td>0.005048</td>\n",
       "      <td>0.022179</td>\n",
       "    </tr>\n",
       "    <tr>\n",
       "      <th>dentist</th>\n",
       "      <td>0.028177</td>\n",
       "      <td>0.043832</td>\n",
       "    </tr>\n",
       "    <tr>\n",
       "      <th>dietitian</th>\n",
       "      <td>0.020227</td>\n",
       "      <td>0.001372</td>\n",
       "    </tr>\n",
       "    <tr>\n",
       "      <th>dj</th>\n",
       "      <td>0.001162</td>\n",
       "      <td>0.006043</td>\n",
       "    </tr>\n",
       "    <tr>\n",
       "      <th>filmmaker</th>\n",
       "      <td>0.012673</td>\n",
       "      <td>0.022265</td>\n",
       "    </tr>\n",
       "    <tr>\n",
       "      <th>interior_designer</th>\n",
       "      <td>0.006496</td>\n",
       "      <td>0.001325</td>\n",
       "    </tr>\n",
       "    <tr>\n",
       "      <th>journalist</th>\n",
       "      <td>0.054195</td>\n",
       "      <td>0.047654</td>\n",
       "    </tr>\n",
       "    <tr>\n",
       "      <th>model</th>\n",
       "      <td>0.034155</td>\n",
       "      <td>0.006086</td>\n",
       "    </tr>\n",
       "    <tr>\n",
       "      <th>nurse</th>\n",
       "      <td>0.094748</td>\n",
       "      <td>0.008218</td>\n",
       "    </tr>\n",
       "    <tr>\n",
       "      <th>painter</th>\n",
       "      <td>0.019478</td>\n",
       "      <td>0.019887</td>\n",
       "    </tr>\n",
       "    <tr>\n",
       "      <th>paralegal</th>\n",
       "      <td>0.008198</td>\n",
       "      <td>0.001272</td>\n",
       "    </tr>\n",
       "    <tr>\n",
       "      <th>pastor</th>\n",
       "      <td>0.003347</td>\n",
       "      <td>0.009096</td>\n",
       "    </tr>\n",
       "    <tr>\n",
       "      <th>personal_trainer</th>\n",
       "      <td>0.003595</td>\n",
       "      <td>0.003689</td>\n",
       "    </tr>\n",
       "    <tr>\n",
       "      <th>photographer</th>\n",
       "      <td>0.047710</td>\n",
       "      <td>0.074082</td>\n",
       "    </tr>\n",
       "    <tr>\n",
       "      <th>physician</th>\n",
       "      <td>0.107553</td>\n",
       "      <td>0.089938</td>\n",
       "    </tr>\n",
       "    <tr>\n",
       "      <th>poet</th>\n",
       "      <td>0.018928</td>\n",
       "      <td>0.016924</td>\n",
       "    </tr>\n",
       "    <tr>\n",
       "      <th>professor</th>\n",
       "      <td>0.292826</td>\n",
       "      <td>0.306971</td>\n",
       "    </tr>\n",
       "    <tr>\n",
       "      <th>psychologist</th>\n",
       "      <td>0.062547</td>\n",
       "      <td>0.032752</td>\n",
       "    </tr>\n",
       "    <tr>\n",
       "      <th>rapper</th>\n",
       "      <td>0.000749</td>\n",
       "      <td>0.006024</td>\n",
       "    </tr>\n",
       "    <tr>\n",
       "      <th>software_engineer</th>\n",
       "      <td>0.005968</td>\n",
       "      <td>0.027473</td>\n",
       "    </tr>\n",
       "    <tr>\n",
       "      <th>surgeon</th>\n",
       "      <td>0.010840</td>\n",
       "      <td>0.053493</td>\n",
       "    </tr>\n",
       "    <tr>\n",
       "      <th>teacher</th>\n",
       "      <td>0.053656</td>\n",
       "      <td>0.030402</td>\n",
       "    </tr>\n",
       "    <tr>\n",
       "      <th>yoga_teacher</th>\n",
       "      <td>0.007719</td>\n",
       "      <td>0.001215</td>\n",
       "    </tr>\n",
       "  </tbody>\n",
       "</table>\n",
       "</div>"
      ],
      "text/plain": [
       "Group                female      male\n",
       "Target                               \n",
       "accountant         0.011413  0.016915\n",
       "architect          0.013191  0.036488\n",
       "attorney           0.068388  0.095184\n",
       "chiropractor       0.003766  0.008773\n",
       "comedian           0.003248  0.010449\n",
       "composer           0.005048  0.022179\n",
       "dentist            0.028177  0.043832\n",
       "dietitian          0.020227  0.001372\n",
       "dj                 0.001162  0.006043\n",
       "filmmaker          0.012673  0.022265\n",
       "interior_designer  0.006496  0.001325\n",
       "journalist         0.054195  0.047654\n",
       "model              0.034155  0.006086\n",
       "nurse              0.094748  0.008218\n",
       "painter            0.019478  0.019887\n",
       "paralegal          0.008198  0.001272\n",
       "pastor             0.003347  0.009096\n",
       "personal_trainer   0.003595  0.003689\n",
       "photographer       0.047710  0.074082\n",
       "physician          0.107553  0.089938\n",
       "poet               0.018928  0.016924\n",
       "professor          0.292826  0.306971\n",
       "psychologist       0.062547  0.032752\n",
       "rapper             0.000749  0.006024\n",
       "software_engineer  0.005968  0.027473\n",
       "surgeon            0.010840  0.053493\n",
       "teacher            0.053656  0.030402\n",
       "yoga_teacher       0.007719  0.001215"
      ]
     },
     "metadata": {},
     "output_type": "display_data"
    },
    {
     "data": {
      "text/html": [
       "<div>\n",
       "<style scoped>\n",
       "    .dataframe tbody tr th:only-of-type {\n",
       "        vertical-align: middle;\n",
       "    }\n",
       "\n",
       "    .dataframe tbody tr th {\n",
       "        vertical-align: top;\n",
       "    }\n",
       "\n",
       "    .dataframe thead th {\n",
       "        text-align: right;\n",
       "    }\n",
       "</style>\n",
       "<table border=\"1\" class=\"dataframe\">\n",
       "  <thead>\n",
       "    <tr style=\"text-align: right;\">\n",
       "      <th>Group</th>\n",
       "      <th>female</th>\n",
       "      <th>male</th>\n",
       "    </tr>\n",
       "  </thead>\n",
       "  <tbody>\n",
       "    <tr>\n",
       "      <th>Count</th>\n",
       "      <td>181640</td>\n",
       "      <td>210645</td>\n",
       "    </tr>\n",
       "  </tbody>\n",
       "</table>\n",
       "</div>"
      ],
      "text/plain": [
       "Group  female    male\n",
       "Count  181640  210645"
      ]
     },
     "metadata": {},
     "output_type": "display_data"
    },
    {
     "name": "stdout",
     "output_type": "stream",
     "text": [
      "Perfect results if dataset equals population:\n"
     ]
    },
    {
     "data": {
      "text/html": [
       "<div>\n",
       "<style scoped>\n",
       "    .dataframe tbody tr th:only-of-type {\n",
       "        vertical-align: middle;\n",
       "    }\n",
       "\n",
       "    .dataframe tbody tr th {\n",
       "        vertical-align: top;\n",
       "    }\n",
       "\n",
       "    .dataframe thead th {\n",
       "        text-align: right;\n",
       "    }\n",
       "</style>\n",
       "<table border=\"1\" class=\"dataframe\">\n",
       "  <thead>\n",
       "    <tr style=\"text-align: right;\">\n",
       "      <th></th>\n",
       "      <th>error_rate</th>\n",
       "      <th>delta_dp</th>\n",
       "      <th>delta_dp_rms</th>\n",
       "    </tr>\n",
       "    <tr>\n",
       "      <th>alpha</th>\n",
       "      <th></th>\n",
       "      <th></th>\n",
       "      <th></th>\n",
       "    </tr>\n",
       "  </thead>\n",
       "  <tbody>\n",
       "    <tr>\n",
       "      <th>inf</th>\n",
       "      <td>0.000000</td>\n",
       "      <td>0.08653</td>\n",
       "      <td>0.02375</td>\n",
       "    </tr>\n",
       "    <tr>\n",
       "      <th>0.0</th>\n",
       "      <td>0.115632</td>\n",
       "      <td>0.00000</td>\n",
       "      <td>0.00000</td>\n",
       "    </tr>\n",
       "  </tbody>\n",
       "</table>\n",
       "</div>"
      ],
      "text/plain": [
       "       error_rate  delta_dp  delta_dp_rms\n",
       "alpha                                    \n",
       "inf      0.000000   0.08653       0.02375\n",
       "0.0      0.115632   0.00000       0.00000"
      ]
     },
     "metadata": {},
     "output_type": "display_data"
    }
   ],
   "source": [
    "# Compute and print dataset statistics\n",
    "\n",
    "df = pd.DataFrame(np.stack([\n",
    "    np.array(group_names)[raw_dataset[\"gender\"]],\n",
    "    np.array(label_names)[raw_dataset[\"title\"]]\n",
    "],\n",
    "                           axis=1),\n",
    "                  columns=[\"Group\", \"Target\"])\n",
    "df_grouped = df.groupby([\"Target\", \"Group\"]).size().unstack()\n",
    "counts = df_grouped.sum(axis=0)\n",
    "\n",
    "print(\"Dataset statistics:\")\n",
    "display(df_grouped / counts)\n",
    "display(pd.DataFrame(counts, columns=[\"Count\"]).T)\n",
    "\n",
    "print(\"Perfect results if dataset equals population:\")\n",
    "display(\n",
    "    pd.DataFrame([{\n",
    "        \"alpha\":\n",
    "            np.inf,\n",
    "        \"error_rate\":\n",
    "            0.0,\n",
    "        \"delta_dp\":\n",
    "            utils.delta_dp(raw_dataset[\"title\"], raw_dataset[\"gender\"]),\n",
    "        \"delta_dp_rms\":\n",
    "            utils.delta_dp(\n",
    "                raw_dataset[\"title\"],\n",
    "                raw_dataset[\"gender\"],\n",
    "                ord=2,\n",
    "            ) / np.sqrt(n_classes)\n",
    "    }, {\n",
    "        \"alpha\":\n",
    "            0.0,\n",
    "        \"error_rate\":\n",
    "            postprocess.PostProcessorDP().fit(\n",
    "                scores=np.concatenate(\n",
    "                    [np.eye(n_classes) for _ in range(n_groups)], axis=0),\n",
    "                groups=np.repeat(np.arange(n_groups), n_classes),\n",
    "                r=np.nan_to_num(\n",
    "                    (df_grouped.to_numpy() / counts.to_numpy())).T.flatten(),\n",
    "            ).score_,\n",
    "        \"delta_dp\":\n",
    "            0.0,\n",
    "        \"delta_dp_rms\":\n",
    "            0.0\n",
    "    }]).groupby('alpha').agg('mean').sort_index(ascending=False))"
   ]
  },
  {
   "cell_type": "markdown",
   "id": "dca83568",
   "metadata": {
    "papermill": {
     "duration": 0.006198,
     "end_time": "2023-04-27T03:32:41.167791",
     "exception": false,
     "start_time": "2023-04-27T03:32:41.161593",
     "status": "completed"
    },
    "tags": []
   },
   "source": [
    "### Tokenize BiasBios dataset"
   ]
  },
  {
   "cell_type": "code",
   "execution_count": 4,
   "id": "34c5add8",
   "metadata": {
    "execution": {
     "iopub.execute_input": "2023-04-27T03:32:41.179855Z",
     "iopub.status.busy": "2023-04-27T03:32:41.179328Z",
     "iopub.status.idle": "2023-04-27T03:32:41.463837Z",
     "shell.execute_reply": "2023-04-27T03:32:41.462938Z"
    },
    "papermill": {
     "duration": 0.293844,
     "end_time": "2023-04-27T03:32:41.466818",
     "exception": false,
     "start_time": "2023-04-27T03:32:41.172974",
     "status": "completed"
    },
    "tags": []
   },
   "outputs": [],
   "source": [
    "tokenizer = transformers.AutoTokenizer.from_pretrained(model_name)\n",
    "\n",
    "\n",
    "def tokenize_function(examples):\n",
    "  tokenized_examples = tokenizer(\n",
    "      examples[\"bio\"],\n",
    "      padding=False,\n",
    "      max_length=tokenizer.model_max_length,\n",
    "      truncation=True,\n",
    "  )\n",
    "  tokenized_examples[\"labels\"] = examples[\"title\"]\n",
    "  tokenized_examples[\"group_labels\"] = examples[\"gender\"]\n",
    "  return tokenized_examples\n",
    "\n",
    "\n",
    "tokenized_dataset = raw_dataset.map(\n",
    "    tokenize_function,\n",
    "    batched=True,\n",
    "    remove_columns=raw_dataset.column_names,\n",
    "    desc=\"Running tokenizer on dataset\",\n",
    ")"
   ]
  },
  {
   "cell_type": "code",
   "execution_count": 5,
   "id": "ba86ece4",
   "metadata": {
    "execution": {
     "iopub.execute_input": "2023-04-27T03:32:41.485127Z",
     "iopub.status.busy": "2023-04-27T03:32:41.484652Z",
     "iopub.status.idle": "2023-04-27T03:32:41.551163Z",
     "shell.execute_reply": "2023-04-27T03:32:41.550251Z"
    },
    "papermill": {
     "duration": 0.078365,
     "end_time": "2023-04-27T03:32:41.554607",
     "exception": false,
     "start_time": "2023-04-27T03:32:41.476242",
     "status": "completed"
    },
    "tags": []
   },
   "outputs": [],
   "source": [
    "# Prepare the dataset for pre-training\n",
    "split_dataset = tokenized_dataset.train_test_split(\n",
    "    test_size=(1 - split_ratio_for_test) * (1 - split_ratio_for_postprocessing),\n",
    "    seed=seed_for_pretraining)\n",
    "dataset_ = split_dataset[\"train\"]\n",
    "train_dataset_pre = split_dataset[\"test\"]\n",
    "\n",
    "data_collator = transformers.DataCollatorWithPadding(tokenizer)\n",
    "train_dataloader_pre = torch.utils.data.DataLoader(\n",
    "    train_dataset_pre,\n",
    "    shuffle=True,\n",
    "    collate_fn=data_collator,\n",
    "    batch_size=batch_size,\n",
    ")\n",
    "dataloader_ = torch.utils.data.DataLoader(\n",
    "    dataset_,\n",
    "    collate_fn=data_collator,\n",
    "    batch_size=batch_size,\n",
    ")\n",
    "\n",
    "n_samples = len(raw_dataset)\n",
    "n_pre = len(train_dataset_pre)\n",
    "n_test = int(n_samples * split_ratio_for_test)\n",
    "n_post = n_samples - n_pre - n_test"
   ]
  },
  {
   "cell_type": "markdown",
   "id": "ed91e923",
   "metadata": {
    "papermill": {
     "duration": 0.007233,
     "end_time": "2023-04-27T03:32:41.570744",
     "exception": false,
     "start_time": "2023-04-27T03:32:41.563511",
     "status": "completed"
    },
    "tags": []
   },
   "source": [
    "## Load/train BERT model"
   ]
  },
  {
   "cell_type": "code",
   "execution_count": 6,
   "id": "2c5ef030",
   "metadata": {
    "execution": {
     "iopub.execute_input": "2023-04-23T15:23:24.588405Z",
     "iopub.status.busy": "2023-04-23T15:23:24.588156Z",
     "iopub.status.idle": "2023-04-23T15:23:36.958910Z",
     "shell.execute_reply": "2023-04-23T15:23:36.955906Z"
    }
   },
   "outputs": [
    {
     "name": "stderr",
     "output_type": "stream",
     "text": [
      "Some weights of the model checkpoint at bert-base-uncased were not used when initializing BertForSequenceClassification: ['cls.predictions.transform.LayerNorm.bias', 'cls.predictions.transform.LayerNorm.weight', 'cls.seq_relationship.weight', 'cls.predictions.bias', 'cls.seq_relationship.bias', 'cls.predictions.transform.dense.weight', 'cls.predictions.transform.dense.bias', 'cls.predictions.decoder.weight']\n",
      "- This IS expected if you are initializing BertForSequenceClassification from the checkpoint of a model trained on another task or with another architecture (e.g. initializing a BertForSequenceClassification model from a BertForPreTraining model).\n",
      "- This IS NOT expected if you are initializing BertForSequenceClassification from the checkpoint of a model that you expect to be exactly identical (initializing a BertForSequenceClassification model from a BertForSequenceClassification model).\n",
      "Some weights of BertForSequenceClassification were not initialized from the model checkpoint at bert-base-uncased and are newly initialized: ['classifier.weight', 'classifier.bias']\n",
      "You should probably TRAIN this model on a down-stream task to be able to use it for predictions and inference.\n"
     ]
    }
   ],
   "source": [
    "model = None\n",
    "model_loaded_from_disk = False\n",
    "if os.path.exists(model_dir):\n",
    "  model = transformers.AutoModelForSequenceClassification.from_pretrained(\n",
    "      model_dir).to(device)\n",
    "  model_loaded_from_disk = True\n",
    "else:\n",
    "  model = transformers.AutoModelForSequenceClassification.from_pretrained(\n",
    "      model_name, num_labels=n_classes).to(device)\n",
    "\n",
    "model_input_args = list(model.forward.__code__.co_varnames)"
   ]
  },
  {
   "cell_type": "code",
   "execution_count": 7,
   "id": "bc345795",
   "metadata": {
    "execution": {
     "iopub.execute_input": "2023-04-23T15:23:36.966681Z",
     "iopub.status.busy": "2023-04-23T15:23:36.966303Z",
     "iopub.status.idle": "2023-04-23T16:41:21.181954Z",
     "shell.execute_reply": "2023-04-23T16:41:21.180947Z"
    }
   },
   "outputs": [
    {
     "name": "stderr",
     "output_type": "stream",
     "text": [
      "epoch 0, train:   0%|                                  | 0/4291 [00:00<?, ?it/s]You're using a BertTokenizerFast tokenizer. Please note that with a fast tokenizer, using the `__call__` method is faster than using a method to encode the text followed by a call to the `pad` method to get a padded encoding.\n",
      "epoch 0, train: 100%|███████████████████████| 4291/4291 [15:55<00:00,  4.49it/s]\n",
      "epoch 0, eval: 100%|████████████████████████| 7969/7969 [09:53<00:00, 13.42it/s]\n"
     ]
    },
    {
     "name": "stdout",
     "output_type": "stream",
     "text": [
      "epoch 0, error rate: 0.14918524619095241\n"
     ]
    },
    {
     "name": "stderr",
     "output_type": "stream",
     "text": [
      "epoch 1, train: 100%|███████████████████████| 4291/4291 [16:06<00:00,  4.44it/s]\n",
      "epoch 1, eval: 100%|████████████████████████| 7969/7969 [09:53<00:00, 13.43it/s]\n"
     ]
    },
    {
     "name": "stdout",
     "output_type": "stream",
     "text": [
      "epoch 1, error rate: 0.13969841363217445\n"
     ]
    },
    {
     "name": "stderr",
     "output_type": "stream",
     "text": [
      "epoch 2, train: 100%|███████████████████████| 4291/4291 [16:00<00:00,  4.47it/s]\n",
      "epoch 2, eval: 100%|████████████████████████| 7969/7969 [09:53<00:00, 13.42it/s]\n"
     ]
    },
    {
     "name": "stdout",
     "output_type": "stream",
     "text": [
      "epoch 2, error rate: 0.1396944918328529\n"
     ]
    }
   ],
   "source": [
    "if not model_loaded_from_disk:\n",
    "  no_decay = [\"bias\", \"LayerNorm.weight\"]\n",
    "  optimizer_grouped_parameters = [\n",
    "      {\n",
    "          \"params\": [\n",
    "              p for n, p in model.named_parameters()\n",
    "              if not any(nd in n for nd in no_decay)\n",
    "          ],\n",
    "          \"weight_decay\": weight_decay,\n",
    "      },\n",
    "      {\n",
    "          \"params\": [\n",
    "              p for n, p in model.named_parameters()\n",
    "              if any(nd in n for nd in no_decay)\n",
    "          ],\n",
    "          \"weight_decay\": 0.0\n",
    "      },\n",
    "  ]\n",
    "  optimizer = torch.optim.AdamW(optimizer_grouped_parameters, lr=lr)\n",
    "  lr_scheduler = transformers.get_linear_schedule_with_warmup(\n",
    "      optimizer,\n",
    "      num_warmup_steps=(warmup_ratio * n_epochs * len(train_dataloader_pre)),\n",
    "      num_training_steps=n_epochs * len(train_dataloader_pre))\n",
    "\n",
    "  loss_fn = torch.nn.CrossEntropyLoss()\n",
    "\n",
    "  for epoch in range(n_epochs):\n",
    "\n",
    "    model.train()\n",
    "    for step, batch in enumerate(\n",
    "        tqdm.tqdm(train_dataloader_pre, desc=f\"epoch {epoch}, train\")):\n",
    "      batch = {\n",
    "          k: v.to(device) for k, v in batch.items() if k in model_input_args\n",
    "      }\n",
    "      outputs = model(**batch)\n",
    "      loss = loss_fn(outputs.logits,\n",
    "                     batch[\"labels\"]) / gradient_accumulation_steps\n",
    "      loss.backward()\n",
    "      if (step + 1) % gradient_accumulation_steps == 0:\n",
    "        torch.nn.utils.clip_grad_norm_(model.parameters(), max_grad_norm)\n",
    "        optimizer.step()\n",
    "        lr_scheduler.step()\n",
    "        optimizer.zero_grad()\n",
    "\n",
    "    model.eval()\n",
    "    labels = []\n",
    "    predictions = []\n",
    "    for batch in tqdm.tqdm(dataloader_, desc=f\"epoch {epoch}, eval\"):\n",
    "      batch = {\n",
    "          k: v.to(device) for k, v in batch.items() if k in model_input_args\n",
    "      }\n",
    "      with torch.no_grad():\n",
    "        outputs = model(**batch)\n",
    "        probas = outputs.logits\n",
    "        predictions.extend(torch.argmax(probas, dim=-1).cpu().numpy())\n",
    "        labels.extend(batch[\"labels\"].cpu().numpy())\n",
    "    print(\n",
    "        f\"epoch {epoch}, error rate: {np.mean(np.array(predictions) != np.array(labels))}\"\n",
    "    )\n",
    "\n",
    "  model.save_pretrained(model_dir)"
   ]
  },
  {
   "cell_type": "code",
   "execution_count": 8,
   "id": "7d618f96",
   "metadata": {
    "execution": {
     "iopub.execute_input": "2023-04-23T16:41:21.198702Z",
     "iopub.status.busy": "2023-04-23T16:41:21.198550Z",
     "iopub.status.idle": "2023-04-23T16:51:16.697560Z",
     "shell.execute_reply": "2023-04-23T16:51:16.696693Z"
    }
   },
   "outputs": [
    {
     "name": "stderr",
     "output_type": "stream",
     "text": [
      "Inference: 100%|████████████████████████████| 7969/7969 [09:53<00:00, 13.43it/s]\n"
     ]
    }
   ],
   "source": [
    "if os.path.exists(f\"{model_dir}/probas.pkl\"):\n",
    "  with open(f\"{model_dir}/probas.pkl\", \"rb\") as f:\n",
    "    probas_, labels_, groups_ = pickle.load(f)\n",
    "\n",
    "else:\n",
    "\n",
    "  def predict_fn(dataloader):\n",
    "    model.eval()\n",
    "    probas = []\n",
    "    with torch.no_grad():\n",
    "      for batch in tqdm.tqdm(dataloader, desc=\"Inference\"):\n",
    "        batch = {\n",
    "            k: v.to(device) for k, v in batch.items() if k in model_input_args\n",
    "        }\n",
    "        outputs = model(**batch)\n",
    "        probas.append(\n",
    "            torch.nn.functional.softmax(outputs.logits, dim=-1).cpu().numpy())\n",
    "    return np.concatenate(probas, axis=0)\n",
    "\n",
    "  transformers.set_seed(seed_for_pretraining)\n",
    "  probas_ = predict_fn(dataloader_)\n",
    "  labels_ = np.array(dataset_[\"labels\"])\n",
    "  groups_ = np.array(dataset_[\"group_labels\"])\n",
    "\n",
    "  with open(f\"{model_dir}/probas.pkl\", \"wb\") as f:\n",
    "    pickle.dump((probas_, labels_, groups_), f)\n",
    "\n",
    "  # del model\n",
    "  # torch.cuda.empty_cache()"
   ]
  },
  {
   "cell_type": "markdown",
   "id": "3161f429",
   "metadata": {
    "papermill": {
     "duration": 0.006822,
     "end_time": "2023-04-27T03:32:49.692118",
     "exception": false,
     "start_time": "2023-04-27T03:32:49.685296",
     "status": "completed"
    },
    "tags": []
   },
   "source": [
    "## DP post-processing (demographic parity)"
   ]
  },
  {
   "cell_type": "code",
   "execution_count": 9,
   "id": "86e7ac8a",
   "metadata": {
    "execution": {
     "iopub.execute_input": "2023-04-27T03:32:49.706004Z",
     "iopub.status.busy": "2023-04-27T03:32:49.704738Z",
     "iopub.status.idle": "2023-04-27T03:58:04.360270Z",
     "shell.execute_reply": "2023-04-27T03:58:04.358547Z"
    },
    "papermill": {
     "duration": 1514.666325,
     "end_time": "2023-04-27T03:58:04.364522",
     "exception": false,
     "start_time": "2023-04-27T03:32:49.698197",
     "status": "completed"
    },
    "tags": []
   },
   "outputs": [
    {
     "data": {
      "application/vnd.jupyter.widget-view+json": {
       "model_id": "2849066ee4f54f5faaa02b19c5af7cba",
       "version_major": 2,
       "version_minor": 0
      },
      "text/plain": [
       "  0%|          | 0/200 [00:00<?, ?it/s]"
      ]
     },
     "metadata": {},
     "output_type": "display_data"
    },
    {
     "name": "stderr",
     "output_type": "stream",
     "text": [
      "/home/rxian/anaconda3/envs/fair/lib/python3.10/site-packages/cvxpy/problems/problem.py:1385: UserWarning: Solution may be inaccurate. Try another solver, adjusting the solver settings, or solve with verbose=True for more information.\n",
      "  warnings.warn(\n"
     ]
    },
    {
     "name": "stderr",
     "output_type": "stream",
     "text": [
      "/home/rxian/anaconda3/envs/fair/lib/python3.10/site-packages/cvxpy/problems/problem.py:1385: UserWarning: Solution may be inaccurate. Try another solver, adjusting the solver settings, or solve with verbose=True for more information.\n",
      "  warnings.warn(\n"
     ]
    },
    {
     "name": "stderr",
     "output_type": "stream",
     "text": [
      "/home/rxian/anaconda3/envs/fair/lib/python3.10/site-packages/cvxpy/problems/problem.py:1385: UserWarning: Solution may be inaccurate. Try another solver, adjusting the solver settings, or solve with verbose=True for more information.\n",
      "  warnings.warn(\n"
     ]
    },
    {
     "name": "stderr",
     "output_type": "stream",
     "text": [
      "/home/rxian/anaconda3/envs/fair/lib/python3.10/site-packages/cvxpy/problems/problem.py:1385: UserWarning: Solution may be inaccurate. Try another solver, adjusting the solver settings, or solve with verbose=True for more information.\n",
      "  warnings.warn(\n"
     ]
    },
    {
     "name": "stderr",
     "output_type": "stream",
     "text": [
      "/home/rxian/anaconda3/envs/fair/lib/python3.10/site-packages/cvxpy/problems/problem.py:1385: UserWarning: Solution may be inaccurate. Try another solver, adjusting the solver settings, or solve with verbose=True for more information.\n",
      "  warnings.warn(\n"
     ]
    },
    {
     "name": "stderr",
     "output_type": "stream",
     "text": [
      "/home/rxian/anaconda3/envs/fair/lib/python3.10/site-packages/cvxpy/problems/problem.py:1385: UserWarning: Solution may be inaccurate. Try another solver, adjusting the solver settings, or solve with verbose=True for more information.\n",
      "  warnings.warn(\n"
     ]
    },
    {
     "name": "stderr",
     "output_type": "stream",
     "text": [
      "/home/rxian/anaconda3/envs/fair/lib/python3.10/site-packages/cvxpy/problems/problem.py:1385: UserWarning: Solution may be inaccurate. Try another solver, adjusting the solver settings, or solve with verbose=True for more information.\n",
      "  warnings.warn(\n"
     ]
    },
    {
     "name": "stderr",
     "output_type": "stream",
     "text": [
      "/home/rxian/anaconda3/envs/fair/lib/python3.10/site-packages/cvxpy/problems/problem.py:1385: UserWarning: Solution may be inaccurate. Try another solver, adjusting the solver settings, or solve with verbose=True for more information.\n",
      "  warnings.warn(\n"
     ]
    },
    {
     "name": "stderr",
     "output_type": "stream",
     "text": [
      "/home/rxian/anaconda3/envs/fair/lib/python3.10/site-packages/cvxpy/problems/problem.py:1385: UserWarning: Solution may be inaccurate. Try another solver, adjusting the solver settings, or solve with verbose=True for more information.\n",
      "  warnings.warn(\n"
     ]
    },
    {
     "name": "stderr",
     "output_type": "stream",
     "text": [
      "/home/rxian/anaconda3/envs/fair/lib/python3.10/site-packages/cvxpy/problems/problem.py:1385: UserWarning: Solution may be inaccurate. Try another solver, adjusting the solver settings, or solve with verbose=True for more information.\n",
      "  warnings.warn(\n"
     ]
    },
    {
     "name": "stderr",
     "output_type": "stream",
     "text": [
      "/home/rxian/anaconda3/envs/fair/lib/python3.10/site-packages/cvxpy/problems/problem.py:1385: UserWarning: Solution may be inaccurate. Try another solver, adjusting the solver settings, or solve with verbose=True for more information.\n",
      "  warnings.warn(\n"
     ]
    },
    {
     "name": "stderr",
     "output_type": "stream",
     "text": [
      "/home/rxian/anaconda3/envs/fair/lib/python3.10/site-packages/cvxpy/problems/problem.py:1385: UserWarning: Solution may be inaccurate. Try another solver, adjusting the solver settings, or solve with verbose=True for more information.\n",
      "  warnings.warn(\n"
     ]
    },
    {
     "name": "stderr",
     "output_type": "stream",
     "text": [
      "/home/rxian/anaconda3/envs/fair/lib/python3.10/site-packages/cvxpy/problems/problem.py:1385: UserWarning: Solution may be inaccurate. Try another solver, adjusting the solver settings, or solve with verbose=True for more information.\n",
      "  warnings.warn(\n"
     ]
    },
    {
     "name": "stderr",
     "output_type": "stream",
     "text": [
      "/home/rxian/anaconda3/envs/fair/lib/python3.10/site-packages/cvxpy/problems/problem.py:1385: UserWarning: Solution may be inaccurate. Try another solver, adjusting the solver settings, or solve with verbose=True for more information.\n",
      "  warnings.warn(\n"
     ]
    },
    {
     "name": "stderr",
     "output_type": "stream",
     "text": [
      "/home/rxian/anaconda3/envs/fair/lib/python3.10/site-packages/cvxpy/problems/problem.py:1385: UserWarning: Solution may be inaccurate. Try another solver, adjusting the solver settings, or solve with verbose=True for more information.\n",
      "  warnings.warn(\n"
     ]
    },
    {
     "name": "stderr",
     "output_type": "stream",
     "text": [
      "/home/rxian/anaconda3/envs/fair/lib/python3.10/site-packages/cvxpy/problems/problem.py:1385: UserWarning: Solution may be inaccurate. Try another solver, adjusting the solver settings, or solve with verbose=True for more information.\n",
      "  warnings.warn(\n"
     ]
    },
    {
     "name": "stderr",
     "output_type": "stream",
     "text": [
      "/home/rxian/anaconda3/envs/fair/lib/python3.10/site-packages/cvxpy/problems/problem.py:1385: UserWarning: Solution may be inaccurate. Try another solver, adjusting the solver settings, or solve with verbose=True for more information.\n",
      "  warnings.warn(\n"
     ]
    },
    {
     "name": "stderr",
     "output_type": "stream",
     "text": [
      "/home/rxian/anaconda3/envs/fair/lib/python3.10/site-packages/cvxpy/problems/problem.py:1385: UserWarning: Solution may be inaccurate. Try another solver, adjusting the solver settings, or solve with verbose=True for more information.\n",
      "  warnings.warn(\n"
     ]
    },
    {
     "name": "stderr",
     "output_type": "stream",
     "text": [
      "/home/rxian/anaconda3/envs/fair/lib/python3.10/site-packages/cvxpy/problems/problem.py:1385: UserWarning: Solution may be inaccurate. Try another solver, adjusting the solver settings, or solve with verbose=True for more information.\n",
      "  warnings.warn(\n"
     ]
    },
    {
     "name": "stderr",
     "output_type": "stream",
     "text": [
      "/home/rxian/anaconda3/envs/fair/lib/python3.10/site-packages/cvxpy/problems/problem.py:1385: UserWarning: Solution may be inaccurate. Try another solver, adjusting the solver settings, or solve with verbose=True for more information.\n",
      "  warnings.warn(\n"
     ]
    },
    {
     "name": "stderr",
     "output_type": "stream",
     "text": [
      "/home/rxian/anaconda3/envs/fair/lib/python3.10/site-packages/cvxpy/problems/problem.py:1385: UserWarning: Solution may be inaccurate. Try another solver, adjusting the solver settings, or solve with verbose=True for more information.\n",
      "  warnings.warn(\n"
     ]
    },
    {
     "name": "stderr",
     "output_type": "stream",
     "text": [
      "/home/rxian/anaconda3/envs/fair/lib/python3.10/site-packages/cvxpy/problems/problem.py:1385: UserWarning: Solution may be inaccurate. Try another solver, adjusting the solver settings, or solve with verbose=True for more information.\n",
      "  warnings.warn(\n"
     ]
    },
    {
     "name": "stderr",
     "output_type": "stream",
     "text": [
      "/home/rxian/anaconda3/envs/fair/lib/python3.10/site-packages/cvxpy/problems/problem.py:1385: UserWarning: Solution may be inaccurate. Try another solver, adjusting the solver settings, or solve with verbose=True for more information.\n",
      "  warnings.warn(\n"
     ]
    },
    {
     "name": "stderr",
     "output_type": "stream",
     "text": [
      "/home/rxian/anaconda3/envs/fair/lib/python3.10/site-packages/cvxpy/problems/problem.py:1385: UserWarning: Solution may be inaccurate. Try another solver, adjusting the solver settings, or solve with verbose=True for more information.\n",
      "  warnings.warn(\n"
     ]
    },
    {
     "name": "stderr",
     "output_type": "stream",
     "text": [
      "/home/rxian/anaconda3/envs/fair/lib/python3.10/site-packages/cvxpy/problems/problem.py:1385: UserWarning: Solution may be inaccurate. Try another solver, adjusting the solver settings, or solve with verbose=True for more information.\n",
      "  warnings.warn(\n"
     ]
    },
    {
     "name": "stderr",
     "output_type": "stream",
     "text": [
      "/home/rxian/anaconda3/envs/fair/lib/python3.10/site-packages/cvxpy/problems/problem.py:1385: UserWarning: Solution may be inaccurate. Try another solver, adjusting the solver settings, or solve with verbose=True for more information.\n",
      "  warnings.warn(\n"
     ]
    },
    {
     "name": "stderr",
     "output_type": "stream",
     "text": [
      "/home/rxian/anaconda3/envs/fair/lib/python3.10/site-packages/cvxpy/problems/problem.py:1385: UserWarning: Solution may be inaccurate. Try another solver, adjusting the solver settings, or solve with verbose=True for more information.\n",
      "  warnings.warn(\n"
     ]
    },
    {
     "name": "stderr",
     "output_type": "stream",
     "text": [
      "/home/rxian/anaconda3/envs/fair/lib/python3.10/site-packages/cvxpy/problems/problem.py:1385: UserWarning: Solution may be inaccurate. Try another solver, adjusting the solver settings, or solve with verbose=True for more information.\n",
      "  warnings.warn(\n"
     ]
    },
    {
     "name": "stderr",
     "output_type": "stream",
     "text": [
      "/home/rxian/anaconda3/envs/fair/lib/python3.10/site-packages/cvxpy/problems/problem.py:1385: UserWarning: Solution may be inaccurate. Try another solver, adjusting the solver settings, or solve with verbose=True for more information.\n",
      "  warnings.warn(\n"
     ]
    },
    {
     "name": "stderr",
     "output_type": "stream",
     "text": [
      "/home/rxian/anaconda3/envs/fair/lib/python3.10/site-packages/cvxpy/problems/problem.py:1385: UserWarning: Solution may be inaccurate. Try another solver, adjusting the solver settings, or solve with verbose=True for more information.\n",
      "  warnings.warn(\n"
     ]
    },
    {
     "name": "stderr",
     "output_type": "stream",
     "text": [
      "/home/rxian/anaconda3/envs/fair/lib/python3.10/site-packages/cvxpy/problems/problem.py:1385: UserWarning: Solution may be inaccurate. Try another solver, adjusting the solver settings, or solve with verbose=True for more information.\n",
      "  warnings.warn(\n"
     ]
    },
    {
     "name": "stderr",
     "output_type": "stream",
     "text": [
      "/home/rxian/anaconda3/envs/fair/lib/python3.10/site-packages/cvxpy/problems/problem.py:1385: UserWarning: Solution may be inaccurate. Try another solver, adjusting the solver settings, or solve with verbose=True for more information.\n",
      "  warnings.warn(\n"
     ]
    },
    {
     "name": "stderr",
     "output_type": "stream",
     "text": [
      "/home/rxian/anaconda3/envs/fair/lib/python3.10/site-packages/cvxpy/problems/problem.py:1385: UserWarning: Solution may be inaccurate. Try another solver, adjusting the solver settings, or solve with verbose=True for more information.\n",
      "  warnings.warn(\n"
     ]
    },
    {
     "name": "stderr",
     "output_type": "stream",
     "text": [
      "/home/rxian/anaconda3/envs/fair/lib/python3.10/site-packages/cvxpy/problems/problem.py:1385: UserWarning: Solution may be inaccurate. Try another solver, adjusting the solver settings, or solve with verbose=True for more information.\n",
      "  warnings.warn(\n"
     ]
    },
    {
     "name": "stderr",
     "output_type": "stream",
     "text": [
      "/home/rxian/anaconda3/envs/fair/lib/python3.10/site-packages/cvxpy/problems/problem.py:1385: UserWarning: Solution may be inaccurate. Try another solver, adjusting the solver settings, or solve with verbose=True for more information.\n",
      "  warnings.warn(\n"
     ]
    },
    {
     "name": "stderr",
     "output_type": "stream",
     "text": [
      "/home/rxian/anaconda3/envs/fair/lib/python3.10/site-packages/cvxpy/problems/problem.py:1385: UserWarning: Solution may be inaccurate. Try another solver, adjusting the solver settings, or solve with verbose=True for more information.\n",
      "  warnings.warn(\n"
     ]
    },
    {
     "name": "stderr",
     "output_type": "stream",
     "text": [
      "/home/rxian/anaconda3/envs/fair/lib/python3.10/site-packages/cvxpy/problems/problem.py:1385: UserWarning: Solution may be inaccurate. Try another solver, adjusting the solver settings, or solve with verbose=True for more information.\n",
      "  warnings.warn(\n"
     ]
    },
    {
     "name": "stderr",
     "output_type": "stream",
     "text": [
      "/home/rxian/anaconda3/envs/fair/lib/python3.10/site-packages/cvxpy/problems/problem.py:1385: UserWarning: Solution may be inaccurate. Try another solver, adjusting the solver settings, or solve with verbose=True for more information.\n",
      "  warnings.warn(\n"
     ]
    },
    {
     "name": "stderr",
     "output_type": "stream",
     "text": [
      "/home/rxian/anaconda3/envs/fair/lib/python3.10/site-packages/cvxpy/problems/problem.py:1385: UserWarning: Solution may be inaccurate. Try another solver, adjusting the solver settings, or solve with verbose=True for more information.\n",
      "  warnings.warn(\n"
     ]
    },
    {
     "name": "stderr",
     "output_type": "stream",
     "text": [
      "/home/rxian/anaconda3/envs/fair/lib/python3.10/site-packages/cvxpy/problems/problem.py:1385: UserWarning: Solution may be inaccurate. Try another solver, adjusting the solver settings, or solve with verbose=True for more information.\n",
      "  warnings.warn(\n"
     ]
    },
    {
     "name": "stderr",
     "output_type": "stream",
     "text": [
      "/home/rxian/anaconda3/envs/fair/lib/python3.10/site-packages/cvxpy/problems/problem.py:1385: UserWarning: Solution may be inaccurate. Try another solver, adjusting the solver settings, or solve with verbose=True for more information.\n",
      "  warnings.warn(\n"
     ]
    },
    {
     "name": "stderr",
     "output_type": "stream",
     "text": [
      "/home/rxian/anaconda3/envs/fair/lib/python3.10/site-packages/cvxpy/problems/problem.py:1385: UserWarning: Solution may be inaccurate. Try another solver, adjusting the solver settings, or solve with verbose=True for more information.\n",
      "  warnings.warn(\n"
     ]
    },
    {
     "name": "stderr",
     "output_type": "stream",
     "text": [
      "/home/rxian/anaconda3/envs/fair/lib/python3.10/site-packages/cvxpy/problems/problem.py:1385: UserWarning: Solution may be inaccurate. Try another solver, adjusting the solver settings, or solve with verbose=True for more information.\n",
      "  warnings.warn(\n"
     ]
    },
    {
     "name": "stderr",
     "output_type": "stream",
     "text": [
      "/home/rxian/anaconda3/envs/fair/lib/python3.10/site-packages/cvxpy/problems/problem.py:1385: UserWarning: Solution may be inaccurate. Try another solver, adjusting the solver settings, or solve with verbose=True for more information.\n",
      "  warnings.warn(\n"
     ]
    },
    {
     "name": "stderr",
     "output_type": "stream",
     "text": [
      "/home/rxian/anaconda3/envs/fair/lib/python3.10/site-packages/cvxpy/problems/problem.py:1385: UserWarning: Solution may be inaccurate. Try another solver, adjusting the solver settings, or solve with verbose=True for more information.\n",
      "  warnings.warn(\n"
     ]
    },
    {
     "name": "stderr",
     "output_type": "stream",
     "text": [
      "/home/rxian/anaconda3/envs/fair/lib/python3.10/site-packages/cvxpy/problems/problem.py:1385: UserWarning: Solution may be inaccurate. Try another solver, adjusting the solver settings, or solve with verbose=True for more information.\n",
      "  warnings.warn(\n"
     ]
    },
    {
     "name": "stderr",
     "output_type": "stream",
     "text": [
      "/home/rxian/anaconda3/envs/fair/lib/python3.10/site-packages/cvxpy/problems/problem.py:1385: UserWarning: Solution may be inaccurate. Try another solver, adjusting the solver settings, or solve with verbose=True for more information.\n",
      "  warnings.warn(\n"
     ]
    },
    {
     "name": "stderr",
     "output_type": "stream",
     "text": [
      "/home/rxian/anaconda3/envs/fair/lib/python3.10/site-packages/cvxpy/problems/problem.py:1385: UserWarning: Solution may be inaccurate. Try another solver, adjusting the solver settings, or solve with verbose=True for more information.\n",
      "  warnings.warn(\n"
     ]
    },
    {
     "name": "stderr",
     "output_type": "stream",
     "text": [
      "/home/rxian/anaconda3/envs/fair/lib/python3.10/site-packages/cvxpy/problems/problem.py:1385: UserWarning: Solution may be inaccurate. Try another solver, adjusting the solver settings, or solve with verbose=True for more information.\n",
      "  warnings.warn(\n"
     ]
    },
    {
     "name": "stderr",
     "output_type": "stream",
     "text": [
      "/home/rxian/anaconda3/envs/fair/lib/python3.10/site-packages/cvxpy/problems/problem.py:1385: UserWarning: Solution may be inaccurate. Try another solver, adjusting the solver settings, or solve with verbose=True for more information.\n",
      "  warnings.warn(\n"
     ]
    },
    {
     "name": "stderr",
     "output_type": "stream",
     "text": [
      "/home/rxian/anaconda3/envs/fair/lib/python3.10/site-packages/cvxpy/problems/problem.py:1385: UserWarning: Solution may be inaccurate. Try another solver, adjusting the solver settings, or solve with verbose=True for more information.\n",
      "  warnings.warn(\n"
     ]
    },
    {
     "name": "stderr",
     "output_type": "stream",
     "text": [
      "/home/rxian/anaconda3/envs/fair/lib/python3.10/site-packages/cvxpy/problems/problem.py:1385: UserWarning: Solution may be inaccurate. Try another solver, adjusting the solver settings, or solve with verbose=True for more information.\n",
      "  warnings.warn(\n"
     ]
    },
    {
     "name": "stderr",
     "output_type": "stream",
     "text": [
      "/home/rxian/anaconda3/envs/fair/lib/python3.10/site-packages/cvxpy/problems/problem.py:1385: UserWarning: Solution may be inaccurate. Try another solver, adjusting the solver settings, or solve with verbose=True for more information.\n",
      "  warnings.warn(\n"
     ]
    },
    {
     "name": "stderr",
     "output_type": "stream",
     "text": [
      "/home/rxian/anaconda3/envs/fair/lib/python3.10/site-packages/cvxpy/problems/problem.py:1385: UserWarning: Solution may be inaccurate. Try another solver, adjusting the solver settings, or solve with verbose=True for more information.\n",
      "  warnings.warn(\n"
     ]
    },
    {
     "name": "stderr",
     "output_type": "stream",
     "text": [
      "/home/rxian/anaconda3/envs/fair/lib/python3.10/site-packages/cvxpy/problems/problem.py:1385: UserWarning: Solution may be inaccurate. Try another solver, adjusting the solver settings, or solve with verbose=True for more information.\n",
      "  warnings.warn(\n"
     ]
    },
    {
     "name": "stderr",
     "output_type": "stream",
     "text": [
      "/home/rxian/anaconda3/envs/fair/lib/python3.10/site-packages/cvxpy/problems/problem.py:1385: UserWarning: Solution may be inaccurate. Try another solver, adjusting the solver settings, or solve with verbose=True for more information.\n",
      "  warnings.warn(\n"
     ]
    },
    {
     "name": "stderr",
     "output_type": "stream",
     "text": [
      "/home/rxian/anaconda3/envs/fair/lib/python3.10/site-packages/cvxpy/problems/problem.py:1385: UserWarning: Solution may be inaccurate. Try another solver, adjusting the solver settings, or solve with verbose=True for more information.\n",
      "  warnings.warn(\n"
     ]
    },
    {
     "name": "stderr",
     "output_type": "stream",
     "text": [
      "/home/rxian/anaconda3/envs/fair/lib/python3.10/site-packages/cvxpy/problems/problem.py:1385: UserWarning: Solution may be inaccurate. Try another solver, adjusting the solver settings, or solve with verbose=True for more information.\n",
      "  warnings.warn(\n"
     ]
    },
    {
     "name": "stderr",
     "output_type": "stream",
     "text": [
      "/home/rxian/anaconda3/envs/fair/lib/python3.10/site-packages/cvxpy/problems/problem.py:1385: UserWarning: Solution may be inaccurate. Try another solver, adjusting the solver settings, or solve with verbose=True for more information.\n",
      "  warnings.warn(\n"
     ]
    },
    {
     "name": "stderr",
     "output_type": "stream",
     "text": [
      "/home/rxian/anaconda3/envs/fair/lib/python3.10/site-packages/cvxpy/problems/problem.py:1385: UserWarning: Solution may be inaccurate. Try another solver, adjusting the solver settings, or solve with verbose=True for more information.\n",
      "  warnings.warn(\n"
     ]
    },
    {
     "name": "stderr",
     "output_type": "stream",
     "text": [
      "/home/rxian/anaconda3/envs/fair/lib/python3.10/site-packages/cvxpy/problems/problem.py:1385: UserWarning: Solution may be inaccurate. Try another solver, adjusting the solver settings, or solve with verbose=True for more information.\n",
      "  warnings.warn(\n"
     ]
    },
    {
     "name": "stderr",
     "output_type": "stream",
     "text": [
      "/home/rxian/anaconda3/envs/fair/lib/python3.10/site-packages/cvxpy/problems/problem.py:1385: UserWarning: Solution may be inaccurate. Try another solver, adjusting the solver settings, or solve with verbose=True for more information.\n",
      "  warnings.warn(\n"
     ]
    },
    {
     "name": "stderr",
     "output_type": "stream",
     "text": [
      "/home/rxian/anaconda3/envs/fair/lib/python3.10/site-packages/cvxpy/problems/problem.py:1385: UserWarning: Solution may be inaccurate. Try another solver, adjusting the solver settings, or solve with verbose=True for more information.\n",
      "  warnings.warn(\n"
     ]
    },
    {
     "name": "stderr",
     "output_type": "stream",
     "text": [
      "/home/rxian/anaconda3/envs/fair/lib/python3.10/site-packages/cvxpy/problems/problem.py:1385: UserWarning: Solution may be inaccurate. Try another solver, adjusting the solver settings, or solve with verbose=True for more information.\n",
      "  warnings.warn(\n"
     ]
    },
    {
     "name": "stderr",
     "output_type": "stream",
     "text": [
      "/home/rxian/anaconda3/envs/fair/lib/python3.10/site-packages/cvxpy/problems/problem.py:1385: UserWarning: Solution may be inaccurate. Try another solver, adjusting the solver settings, or solve with verbose=True for more information.\n",
      "  warnings.warn(\n"
     ]
    },
    {
     "name": "stderr",
     "output_type": "stream",
     "text": [
      "/home/rxian/anaconda3/envs/fair/lib/python3.10/site-packages/cvxpy/problems/problem.py:1385: UserWarning: Solution may be inaccurate. Try another solver, adjusting the solver settings, or solve with verbose=True for more information.\n",
      "  warnings.warn(\n"
     ]
    },
    {
     "name": "stderr",
     "output_type": "stream",
     "text": [
      "/home/rxian/anaconda3/envs/fair/lib/python3.10/site-packages/cvxpy/problems/problem.py:1385: UserWarning: Solution may be inaccurate. Try another solver, adjusting the solver settings, or solve with verbose=True for more information.\n",
      "  warnings.warn(\n"
     ]
    },
    {
     "name": "stderr",
     "output_type": "stream",
     "text": [
      "/home/rxian/anaconda3/envs/fair/lib/python3.10/site-packages/cvxpy/problems/problem.py:1385: UserWarning: Solution may be inaccurate. Try another solver, adjusting the solver settings, or solve with verbose=True for more information.\n",
      "  warnings.warn(\n"
     ]
    },
    {
     "name": "stderr",
     "output_type": "stream",
     "text": [
      "/home/rxian/anaconda3/envs/fair/lib/python3.10/site-packages/cvxpy/problems/problem.py:1385: UserWarning: Solution may be inaccurate. Try another solver, adjusting the solver settings, or solve with verbose=True for more information.\n",
      "  warnings.warn(\n"
     ]
    },
    {
     "name": "stderr",
     "output_type": "stream",
     "text": [
      "/home/rxian/anaconda3/envs/fair/lib/python3.10/site-packages/cvxpy/problems/problem.py:1385: UserWarning: Solution may be inaccurate. Try another solver, adjusting the solver settings, or solve with verbose=True for more information.\n",
      "  warnings.warn(\n"
     ]
    },
    {
     "name": "stderr",
     "output_type": "stream",
     "text": [
      "/home/rxian/anaconda3/envs/fair/lib/python3.10/site-packages/cvxpy/problems/problem.py:1385: UserWarning: Solution may be inaccurate. Try another solver, adjusting the solver settings, or solve with verbose=True for more information.\n",
      "  warnings.warn(\n"
     ]
    },
    {
     "name": "stderr",
     "output_type": "stream",
     "text": [
      "/home/rxian/anaconda3/envs/fair/lib/python3.10/site-packages/cvxpy/problems/problem.py:1385: UserWarning: Solution may be inaccurate. Try another solver, adjusting the solver settings, or solve with verbose=True for more information.\n",
      "  warnings.warn(\n"
     ]
    },
    {
     "name": "stderr",
     "output_type": "stream",
     "text": [
      "/home/rxian/anaconda3/envs/fair/lib/python3.10/site-packages/cvxpy/problems/problem.py:1385: UserWarning: Solution may be inaccurate. Try another solver, adjusting the solver settings, or solve with verbose=True for more information.\n",
      "  warnings.warn(\n"
     ]
    },
    {
     "name": "stderr",
     "output_type": "stream",
     "text": [
      "/home/rxian/anaconda3/envs/fair/lib/python3.10/site-packages/cvxpy/problems/problem.py:1385: UserWarning: Solution may be inaccurate. Try another solver, adjusting the solver settings, or solve with verbose=True for more information.\n",
      "  warnings.warn(\n"
     ]
    },
    {
     "name": "stderr",
     "output_type": "stream",
     "text": [
      "/home/rxian/anaconda3/envs/fair/lib/python3.10/site-packages/cvxpy/problems/problem.py:1385: UserWarning: Solution may be inaccurate. Try another solver, adjusting the solver settings, or solve with verbose=True for more information.\n",
      "  warnings.warn(\n"
     ]
    },
    {
     "name": "stderr",
     "output_type": "stream",
     "text": [
      "/home/rxian/anaconda3/envs/fair/lib/python3.10/site-packages/cvxpy/problems/problem.py:1385: UserWarning: Solution may be inaccurate. Try another solver, adjusting the solver settings, or solve with verbose=True for more information.\n",
      "  warnings.warn(\n"
     ]
    },
    {
     "name": "stderr",
     "output_type": "stream",
     "text": [
      "/home/rxian/anaconda3/envs/fair/lib/python3.10/site-packages/cvxpy/problems/problem.py:1385: UserWarning: Solution may be inaccurate. Try another solver, adjusting the solver settings, or solve with verbose=True for more information.\n",
      "  warnings.warn(\n"
     ]
    },
    {
     "name": "stderr",
     "output_type": "stream",
     "text": [
      "/home/rxian/anaconda3/envs/fair/lib/python3.10/site-packages/cvxpy/problems/problem.py:1385: UserWarning: Solution may be inaccurate. Try another solver, adjusting the solver settings, or solve with verbose=True for more information.\n",
      "  warnings.warn(\n"
     ]
    },
    {
     "name": "stderr",
     "output_type": "stream",
     "text": [
      "/home/rxian/anaconda3/envs/fair/lib/python3.10/site-packages/cvxpy/problems/problem.py:1385: UserWarning: Solution may be inaccurate. Try another solver, adjusting the solver settings, or solve with verbose=True for more information.\n",
      "  warnings.warn(\n"
     ]
    },
    {
     "name": "stderr",
     "output_type": "stream",
     "text": [
      "/home/rxian/anaconda3/envs/fair/lib/python3.10/site-packages/cvxpy/problems/problem.py:1385: UserWarning: Solution may be inaccurate. Try another solver, adjusting the solver settings, or solve with verbose=True for more information.\n",
      "  warnings.warn(\n"
     ]
    },
    {
     "name": "stderr",
     "output_type": "stream",
     "text": [
      "/home/rxian/anaconda3/envs/fair/lib/python3.10/site-packages/cvxpy/problems/problem.py:1385: UserWarning: Solution may be inaccurate. Try another solver, adjusting the solver settings, or solve with verbose=True for more information.\n",
      "  warnings.warn(\n"
     ]
    },
    {
     "name": "stderr",
     "output_type": "stream",
     "text": [
      "/home/rxian/anaconda3/envs/fair/lib/python3.10/site-packages/cvxpy/problems/problem.py:1385: UserWarning: Solution may be inaccurate. Try another solver, adjusting the solver settings, or solve with verbose=True for more information.\n",
      "  warnings.warn(\n"
     ]
    },
    {
     "name": "stderr",
     "output_type": "stream",
     "text": [
      "/home/rxian/anaconda3/envs/fair/lib/python3.10/site-packages/cvxpy/problems/problem.py:1385: UserWarning: Solution may be inaccurate. Try another solver, adjusting the solver settings, or solve with verbose=True for more information.\n",
      "  warnings.warn(\n"
     ]
    },
    {
     "name": "stderr",
     "output_type": "stream",
     "text": [
      "/home/rxian/anaconda3/envs/fair/lib/python3.10/site-packages/cvxpy/problems/problem.py:1385: UserWarning: Solution may be inaccurate. Try another solver, adjusting the solver settings, or solve with verbose=True for more information.\n",
      "  warnings.warn(\n"
     ]
    },
    {
     "name": "stderr",
     "output_type": "stream",
     "text": [
      "/home/rxian/anaconda3/envs/fair/lib/python3.10/site-packages/cvxpy/problems/problem.py:1385: UserWarning: Solution may be inaccurate. Try another solver, adjusting the solver settings, or solve with verbose=True for more information.\n",
      "  warnings.warn(\n"
     ]
    },
    {
     "name": "stderr",
     "output_type": "stream",
     "text": [
      "/home/rxian/anaconda3/envs/fair/lib/python3.10/site-packages/cvxpy/problems/problem.py:1385: UserWarning: Solution may be inaccurate. Try another solver, adjusting the solver settings, or solve with verbose=True for more information.\n",
      "  warnings.warn(\n"
     ]
    },
    {
     "name": "stderr",
     "output_type": "stream",
     "text": [
      "/home/rxian/anaconda3/envs/fair/lib/python3.10/site-packages/cvxpy/problems/problem.py:1385: UserWarning: Solution may be inaccurate. Try another solver, adjusting the solver settings, or solve with verbose=True for more information.\n",
      "  warnings.warn(\n"
     ]
    },
    {
     "name": "stderr",
     "output_type": "stream",
     "text": [
      "/home/rxian/anaconda3/envs/fair/lib/python3.10/site-packages/cvxpy/problems/problem.py:1385: UserWarning: Solution may be inaccurate. Try another solver, adjusting the solver settings, or solve with verbose=True for more information.\n",
      "  warnings.warn(\n"
     ]
    },
    {
     "name": "stderr",
     "output_type": "stream",
     "text": [
      "/home/rxian/anaconda3/envs/fair/lib/python3.10/site-packages/cvxpy/problems/problem.py:1385: UserWarning: Solution may be inaccurate. Try another solver, adjusting the solver settings, or solve with verbose=True for more information.\n",
      "  warnings.warn(\n"
     ]
    },
    {
     "name": "stderr",
     "output_type": "stream",
     "text": [
      "/home/rxian/anaconda3/envs/fair/lib/python3.10/site-packages/cvxpy/problems/problem.py:1385: UserWarning: Solution may be inaccurate. Try another solver, adjusting the solver settings, or solve with verbose=True for more information.\n",
      "  warnings.warn(\n"
     ]
    },
    {
     "name": "stderr",
     "output_type": "stream",
     "text": [
      "/home/rxian/anaconda3/envs/fair/lib/python3.10/site-packages/cvxpy/problems/problem.py:1385: UserWarning: Solution may be inaccurate. Try another solver, adjusting the solver settings, or solve with verbose=True for more information.\n",
      "  warnings.warn(\n"
     ]
    },
    {
     "name": "stderr",
     "output_type": "stream",
     "text": [
      "/home/rxian/anaconda3/envs/fair/lib/python3.10/site-packages/cvxpy/problems/problem.py:1385: UserWarning: Solution may be inaccurate. Try another solver, adjusting the solver settings, or solve with verbose=True for more information.\n",
      "  warnings.warn(\n"
     ]
    },
    {
     "name": "stderr",
     "output_type": "stream",
     "text": [
      "/home/rxian/anaconda3/envs/fair/lib/python3.10/site-packages/cvxpy/problems/problem.py:1385: UserWarning: Solution may be inaccurate. Try another solver, adjusting the solver settings, or solve with verbose=True for more information.\n",
      "  warnings.warn(\n"
     ]
    },
    {
     "name": "stderr",
     "output_type": "stream",
     "text": [
      "/home/rxian/anaconda3/envs/fair/lib/python3.10/site-packages/cvxpy/problems/problem.py:1385: UserWarning: Solution may be inaccurate. Try another solver, adjusting the solver settings, or solve with verbose=True for more information.\n",
      "  warnings.warn(\n"
     ]
    },
    {
     "name": "stderr",
     "output_type": "stream",
     "text": [
      "/home/rxian/anaconda3/envs/fair/lib/python3.10/site-packages/cvxpy/problems/problem.py:1385: UserWarning: Solution may be inaccurate. Try another solver, adjusting the solver settings, or solve with verbose=True for more information.\n",
      "  warnings.warn(\n"
     ]
    },
    {
     "name": "stderr",
     "output_type": "stream",
     "text": [
      "/home/rxian/anaconda3/envs/fair/lib/python3.10/site-packages/cvxpy/problems/problem.py:1385: UserWarning: Solution may be inaccurate. Try another solver, adjusting the solver settings, or solve with verbose=True for more information.\n",
      "  warnings.warn(\n"
     ]
    },
    {
     "name": "stderr",
     "output_type": "stream",
     "text": [
      "/home/rxian/anaconda3/envs/fair/lib/python3.10/site-packages/cvxpy/problems/problem.py:1385: UserWarning: Solution may be inaccurate. Try another solver, adjusting the solver settings, or solve with verbose=True for more information.\n",
      "  warnings.warn(\n"
     ]
    },
    {
     "name": "stderr",
     "output_type": "stream",
     "text": [
      "/home/rxian/anaconda3/envs/fair/lib/python3.10/site-packages/cvxpy/problems/problem.py:1385: UserWarning: Solution may be inaccurate. Try another solver, adjusting the solver settings, or solve with verbose=True for more information.\n",
      "  warnings.warn(\n"
     ]
    },
    {
     "name": "stderr",
     "output_type": "stream",
     "text": [
      "/home/rxian/anaconda3/envs/fair/lib/python3.10/site-packages/cvxpy/problems/problem.py:1385: UserWarning: Solution may be inaccurate. Try another solver, adjusting the solver settings, or solve with verbose=True for more information.\n",
      "  warnings.warn(\n"
     ]
    },
    {
     "name": "stderr",
     "output_type": "stream",
     "text": [
      "/home/rxian/anaconda3/envs/fair/lib/python3.10/site-packages/cvxpy/problems/problem.py:1385: UserWarning: Solution may be inaccurate. Try another solver, adjusting the solver settings, or solve with verbose=True for more information.\n",
      "  warnings.warn(\n"
     ]
    },
    {
     "name": "stderr",
     "output_type": "stream",
     "text": [
      "/home/rxian/anaconda3/envs/fair/lib/python3.10/site-packages/cvxpy/problems/problem.py:1385: UserWarning: Solution may be inaccurate. Try another solver, adjusting the solver settings, or solve with verbose=True for more information.\n",
      "  warnings.warn(\n"
     ]
    },
    {
     "name": "stderr",
     "output_type": "stream",
     "text": [
      "/home/rxian/anaconda3/envs/fair/lib/python3.10/site-packages/cvxpy/problems/problem.py:1385: UserWarning: Solution may be inaccurate. Try another solver, adjusting the solver settings, or solve with verbose=True for more information.\n",
      "  warnings.warn(\n"
     ]
    },
    {
     "name": "stderr",
     "output_type": "stream",
     "text": [
      "/home/rxian/anaconda3/envs/fair/lib/python3.10/site-packages/cvxpy/problems/problem.py:1385: UserWarning: Solution may be inaccurate. Try another solver, adjusting the solver settings, or solve with verbose=True for more information.\n",
      "  warnings.warn(\n"
     ]
    },
    {
     "name": "stderr",
     "output_type": "stream",
     "text": [
      "/home/rxian/anaconda3/envs/fair/lib/python3.10/site-packages/cvxpy/problems/problem.py:1385: UserWarning: Solution may be inaccurate. Try another solver, adjusting the solver settings, or solve with verbose=True for more information.\n",
      "  warnings.warn(\n"
     ]
    },
    {
     "name": "stderr",
     "output_type": "stream",
     "text": [
      "/home/rxian/anaconda3/envs/fair/lib/python3.10/site-packages/cvxpy/problems/problem.py:1385: UserWarning: Solution may be inaccurate. Try another solver, adjusting the solver settings, or solve with verbose=True for more information.\n",
      "  warnings.warn(\n"
     ]
    },
    {
     "name": "stderr",
     "output_type": "stream",
     "text": [
      "/home/rxian/anaconda3/envs/fair/lib/python3.10/site-packages/cvxpy/problems/problem.py:1385: UserWarning: Solution may be inaccurate. Try another solver, adjusting the solver settings, or solve with verbose=True for more information.\n",
      "  warnings.warn(\n"
     ]
    },
    {
     "name": "stderr",
     "output_type": "stream",
     "text": [
      "/home/rxian/anaconda3/envs/fair/lib/python3.10/site-packages/cvxpy/problems/problem.py:1385: UserWarning: Solution may be inaccurate. Try another solver, adjusting the solver settings, or solve with verbose=True for more information.\n",
      "  warnings.warn(\n"
     ]
    },
    {
     "name": "stderr",
     "output_type": "stream",
     "text": [
      "/home/rxian/anaconda3/envs/fair/lib/python3.10/site-packages/cvxpy/problems/problem.py:1385: UserWarning: Solution may be inaccurate. Try another solver, adjusting the solver settings, or solve with verbose=True for more information.\n",
      "  warnings.warn(\n"
     ]
    },
    {
     "name": "stderr",
     "output_type": "stream",
     "text": [
      "/home/rxian/anaconda3/envs/fair/lib/python3.10/site-packages/cvxpy/problems/problem.py:1385: UserWarning: Solution may be inaccurate. Try another solver, adjusting the solver settings, or solve with verbose=True for more information.\n",
      "  warnings.warn(\n"
     ]
    },
    {
     "name": "stderr",
     "output_type": "stream",
     "text": [
      "/home/rxian/anaconda3/envs/fair/lib/python3.10/site-packages/cvxpy/problems/problem.py:1385: UserWarning: Solution may be inaccurate. Try another solver, adjusting the solver settings, or solve with verbose=True for more information.\n",
      "  warnings.warn(\n"
     ]
    },
    {
     "name": "stderr",
     "output_type": "stream",
     "text": [
      "/home/rxian/anaconda3/envs/fair/lib/python3.10/site-packages/cvxpy/problems/problem.py:1385: UserWarning: Solution may be inaccurate. Try another solver, adjusting the solver settings, or solve with verbose=True for more information.\n",
      "  warnings.warn(\n"
     ]
    },
    {
     "name": "stderr",
     "output_type": "stream",
     "text": [
      "/home/rxian/anaconda3/envs/fair/lib/python3.10/site-packages/cvxpy/problems/problem.py:1385: UserWarning: Solution may be inaccurate. Try another solver, adjusting the solver settings, or solve with verbose=True for more information.\n",
      "  warnings.warn(\n"
     ]
    },
    {
     "name": "stderr",
     "output_type": "stream",
     "text": [
      "/home/rxian/anaconda3/envs/fair/lib/python3.10/site-packages/cvxpy/problems/problem.py:1385: UserWarning: Solution may be inaccurate. Try another solver, adjusting the solver settings, or solve with verbose=True for more information.\n",
      "  warnings.warn(\n"
     ]
    },
    {
     "name": "stderr",
     "output_type": "stream",
     "text": [
      "/home/rxian/anaconda3/envs/fair/lib/python3.10/site-packages/cvxpy/problems/problem.py:1385: UserWarning: Solution may be inaccurate. Try another solver, adjusting the solver settings, or solve with verbose=True for more information.\n",
      "  warnings.warn(\n"
     ]
    },
    {
     "name": "stderr",
     "output_type": "stream",
     "text": [
      "/home/rxian/anaconda3/envs/fair/lib/python3.10/site-packages/cvxpy/problems/problem.py:1385: UserWarning: Solution may be inaccurate. Try another solver, adjusting the solver settings, or solve with verbose=True for more information.\n",
      "  warnings.warn(\n"
     ]
    },
    {
     "name": "stderr",
     "output_type": "stream",
     "text": [
      "/home/rxian/anaconda3/envs/fair/lib/python3.10/site-packages/cvxpy/problems/problem.py:1385: UserWarning: Solution may be inaccurate. Try another solver, adjusting the solver settings, or solve with verbose=True for more information.\n",
      "  warnings.warn(\n"
     ]
    },
    {
     "name": "stderr",
     "output_type": "stream",
     "text": [
      "/home/rxian/anaconda3/envs/fair/lib/python3.10/site-packages/cvxpy/problems/problem.py:1385: UserWarning: Solution may be inaccurate. Try another solver, adjusting the solver settings, or solve with verbose=True for more information.\n",
      "  warnings.warn(\n"
     ]
    },
    {
     "name": "stderr",
     "output_type": "stream",
     "text": [
      "/home/rxian/anaconda3/envs/fair/lib/python3.10/site-packages/cvxpy/problems/problem.py:1385: UserWarning: Solution may be inaccurate. Try another solver, adjusting the solver settings, or solve with verbose=True for more information.\n",
      "  warnings.warn(\n"
     ]
    },
    {
     "name": "stderr",
     "output_type": "stream",
     "text": [
      "/home/rxian/anaconda3/envs/fair/lib/python3.10/site-packages/cvxpy/problems/problem.py:1385: UserWarning: Solution may be inaccurate. Try another solver, adjusting the solver settings, or solve with verbose=True for more information.\n",
      "  warnings.warn(\n"
     ]
    },
    {
     "name": "stderr",
     "output_type": "stream",
     "text": [
      "/home/rxian/anaconda3/envs/fair/lib/python3.10/site-packages/cvxpy/problems/problem.py:1385: UserWarning: Solution may be inaccurate. Try another solver, adjusting the solver settings, or solve with verbose=True for more information.\n",
      "  warnings.warn(\n"
     ]
    },
    {
     "name": "stderr",
     "output_type": "stream",
     "text": [
      "/home/rxian/anaconda3/envs/fair/lib/python3.10/site-packages/cvxpy/problems/problem.py:1385: UserWarning: Solution may be inaccurate. Try another solver, adjusting the solver settings, or solve with verbose=True for more information.\n",
      "  warnings.warn(\n"
     ]
    },
    {
     "name": "stderr",
     "output_type": "stream",
     "text": [
      "/home/rxian/anaconda3/envs/fair/lib/python3.10/site-packages/cvxpy/problems/problem.py:1385: UserWarning: Solution may be inaccurate. Try another solver, adjusting the solver settings, or solve with verbose=True for more information.\n",
      "  warnings.warn(\n"
     ]
    },
    {
     "name": "stderr",
     "output_type": "stream",
     "text": [
      "/home/rxian/anaconda3/envs/fair/lib/python3.10/site-packages/cvxpy/problems/problem.py:1385: UserWarning: Solution may be inaccurate. Try another solver, adjusting the solver settings, or solve with verbose=True for more information.\n",
      "  warnings.warn(\n"
     ]
    },
    {
     "name": "stderr",
     "output_type": "stream",
     "text": [
      "/home/rxian/anaconda3/envs/fair/lib/python3.10/site-packages/cvxpy/problems/problem.py:1385: UserWarning: Solution may be inaccurate. Try another solver, adjusting the solver settings, or solve with verbose=True for more information.\n",
      "  warnings.warn(\n"
     ]
    },
    {
     "name": "stderr",
     "output_type": "stream",
     "text": [
      "/home/rxian/anaconda3/envs/fair/lib/python3.10/site-packages/cvxpy/problems/problem.py:1385: UserWarning: Solution may be inaccurate. Try another solver, adjusting the solver settings, or solve with verbose=True for more information.\n",
      "  warnings.warn(\n"
     ]
    },
    {
     "name": "stderr",
     "output_type": "stream",
     "text": [
      "/home/rxian/anaconda3/envs/fair/lib/python3.10/site-packages/cvxpy/problems/problem.py:1385: UserWarning: Solution may be inaccurate. Try another solver, adjusting the solver settings, or solve with verbose=True for more information.\n",
      "  warnings.warn(\n"
     ]
    },
    {
     "name": "stderr",
     "output_type": "stream",
     "text": [
      "/home/rxian/anaconda3/envs/fair/lib/python3.10/site-packages/cvxpy/problems/problem.py:1385: UserWarning: Solution may be inaccurate. Try another solver, adjusting the solver settings, or solve with verbose=True for more information.\n",
      "  warnings.warn(\n"
     ]
    },
    {
     "name": "stderr",
     "output_type": "stream",
     "text": [
      "/home/rxian/anaconda3/envs/fair/lib/python3.10/site-packages/cvxpy/problems/problem.py:1385: UserWarning: Solution may be inaccurate. Try another solver, adjusting the solver settings, or solve with verbose=True for more information.\n",
      "  warnings.warn(\n"
     ]
    },
    {
     "name": "stderr",
     "output_type": "stream",
     "text": [
      "/home/rxian/anaconda3/envs/fair/lib/python3.10/site-packages/cvxpy/problems/problem.py:1385: UserWarning: Solution may be inaccurate. Try another solver, adjusting the solver settings, or solve with verbose=True for more information.\n",
      "  warnings.warn(\n"
     ]
    },
    {
     "name": "stderr",
     "output_type": "stream",
     "text": [
      "/home/rxian/anaconda3/envs/fair/lib/python3.10/site-packages/cvxpy/problems/problem.py:1385: UserWarning: Solution may be inaccurate. Try another solver, adjusting the solver settings, or solve with verbose=True for more information.\n",
      "  warnings.warn(\n"
     ]
    },
    {
     "name": "stderr",
     "output_type": "stream",
     "text": [
      "/home/rxian/anaconda3/envs/fair/lib/python3.10/site-packages/cvxpy/problems/problem.py:1385: UserWarning: Solution may be inaccurate. Try another solver, adjusting the solver settings, or solve with verbose=True for more information.\n",
      "  warnings.warn(\n"
     ]
    },
    {
     "name": "stderr",
     "output_type": "stream",
     "text": [
      "/home/rxian/anaconda3/envs/fair/lib/python3.10/site-packages/cvxpy/problems/problem.py:1385: UserWarning: Solution may be inaccurate. Try another solver, adjusting the solver settings, or solve with verbose=True for more information.\n",
      "  warnings.warn(\n"
     ]
    },
    {
     "name": "stderr",
     "output_type": "stream",
     "text": [
      "/home/rxian/anaconda3/envs/fair/lib/python3.10/site-packages/cvxpy/problems/problem.py:1385: UserWarning: Solution may be inaccurate. Try another solver, adjusting the solver settings, or solve with verbose=True for more information.\n",
      "  warnings.warn(\n"
     ]
    },
    {
     "name": "stderr",
     "output_type": "stream",
     "text": [
      "/home/rxian/anaconda3/envs/fair/lib/python3.10/site-packages/cvxpy/problems/problem.py:1385: UserWarning: Solution may be inaccurate. Try another solver, adjusting the solver settings, or solve with verbose=True for more information.\n",
      "  warnings.warn(\n"
     ]
    },
    {
     "name": "stderr",
     "output_type": "stream",
     "text": [
      "/home/rxian/anaconda3/envs/fair/lib/python3.10/site-packages/cvxpy/problems/problem.py:1385: UserWarning: Solution may be inaccurate. Try another solver, adjusting the solver settings, or solve with verbose=True for more information.\n",
      "  warnings.warn(\n"
     ]
    },
    {
     "name": "stderr",
     "output_type": "stream",
     "text": [
      "/home/rxian/anaconda3/envs/fair/lib/python3.10/site-packages/cvxpy/problems/problem.py:1385: UserWarning: Solution may be inaccurate. Try another solver, adjusting the solver settings, or solve with verbose=True for more information.\n",
      "  warnings.warn(\n"
     ]
    },
    {
     "name": "stderr",
     "output_type": "stream",
     "text": [
      "/home/rxian/anaconda3/envs/fair/lib/python3.10/site-packages/cvxpy/problems/problem.py:1385: UserWarning: Solution may be inaccurate. Try another solver, adjusting the solver settings, or solve with verbose=True for more information.\n",
      "  warnings.warn(\n"
     ]
    },
    {
     "name": "stderr",
     "output_type": "stream",
     "text": [
      "/home/rxian/anaconda3/envs/fair/lib/python3.10/site-packages/cvxpy/problems/problem.py:1385: UserWarning: Solution may be inaccurate. Try another solver, adjusting the solver settings, or solve with verbose=True for more information.\n",
      "  warnings.warn(\n"
     ]
    },
    {
     "name": "stderr",
     "output_type": "stream",
     "text": [
      "/home/rxian/anaconda3/envs/fair/lib/python3.10/site-packages/cvxpy/problems/problem.py:1385: UserWarning: Solution may be inaccurate. Try another solver, adjusting the solver settings, or solve with verbose=True for more information.\n",
      "  warnings.warn(\n"
     ]
    },
    {
     "name": "stderr",
     "output_type": "stream",
     "text": [
      "/home/rxian/anaconda3/envs/fair/lib/python3.10/site-packages/cvxpy/problems/problem.py:1385: UserWarning: Solution may be inaccurate. Try another solver, adjusting the solver settings, or solve with verbose=True for more information.\n",
      "  warnings.warn(\n"
     ]
    },
    {
     "name": "stderr",
     "output_type": "stream",
     "text": [
      "/home/rxian/anaconda3/envs/fair/lib/python3.10/site-packages/cvxpy/problems/problem.py:1385: UserWarning: Solution may be inaccurate. Try another solver, adjusting the solver settings, or solve with verbose=True for more information.\n",
      "  warnings.warn(\n"
     ]
    },
    {
     "name": "stderr",
     "output_type": "stream",
     "text": [
      "/home/rxian/anaconda3/envs/fair/lib/python3.10/site-packages/cvxpy/problems/problem.py:1385: UserWarning: Solution may be inaccurate. Try another solver, adjusting the solver settings, or solve with verbose=True for more information.\n",
      "  warnings.warn(\n"
     ]
    },
    {
     "name": "stderr",
     "output_type": "stream",
     "text": [
      "/home/rxian/anaconda3/envs/fair/lib/python3.10/site-packages/cvxpy/problems/problem.py:1385: UserWarning: Solution may be inaccurate. Try another solver, adjusting the solver settings, or solve with verbose=True for more information.\n",
      "  warnings.warn(\n"
     ]
    },
    {
     "name": "stderr",
     "output_type": "stream",
     "text": [
      "/home/rxian/anaconda3/envs/fair/lib/python3.10/site-packages/cvxpy/problems/problem.py:1385: UserWarning: Solution may be inaccurate. Try another solver, adjusting the solver settings, or solve with verbose=True for more information.\n",
      "  warnings.warn(\n"
     ]
    },
    {
     "name": "stderr",
     "output_type": "stream",
     "text": [
      "/home/rxian/anaconda3/envs/fair/lib/python3.10/site-packages/cvxpy/problems/problem.py:1385: UserWarning: Solution may be inaccurate. Try another solver, adjusting the solver settings, or solve with verbose=True for more information.\n",
      "  warnings.warn(\n"
     ]
    },
    {
     "name": "stderr",
     "output_type": "stream",
     "text": [
      "/home/rxian/anaconda3/envs/fair/lib/python3.10/site-packages/cvxpy/problems/problem.py:1385: UserWarning: Solution may be inaccurate. Try another solver, adjusting the solver settings, or solve with verbose=True for more information.\n",
      "  warnings.warn(\n"
     ]
    },
    {
     "name": "stderr",
     "output_type": "stream",
     "text": [
      "/home/rxian/anaconda3/envs/fair/lib/python3.10/site-packages/cvxpy/problems/problem.py:1385: UserWarning: Solution may be inaccurate. Try another solver, adjusting the solver settings, or solve with verbose=True for more information.\n",
      "  warnings.warn(\n"
     ]
    },
    {
     "name": "stderr",
     "output_type": "stream",
     "text": [
      "/home/rxian/anaconda3/envs/fair/lib/python3.10/site-packages/cvxpy/problems/problem.py:1385: UserWarning: Solution may be inaccurate. Try another solver, adjusting the solver settings, or solve with verbose=True for more information.\n",
      "  warnings.warn(\n"
     ]
    },
    {
     "name": "stderr",
     "output_type": "stream",
     "text": [
      "/home/rxian/anaconda3/envs/fair/lib/python3.10/site-packages/cvxpy/problems/problem.py:1385: UserWarning: Solution may be inaccurate. Try another solver, adjusting the solver settings, or solve with verbose=True for more information.\n",
      "  warnings.warn(\n"
     ]
    },
    {
     "name": "stderr",
     "output_type": "stream",
     "text": [
      "/home/rxian/anaconda3/envs/fair/lib/python3.10/site-packages/cvxpy/problems/problem.py:1385: UserWarning: Solution may be inaccurate. Try another solver, adjusting the solver settings, or solve with verbose=True for more information.\n",
      "  warnings.warn(\n"
     ]
    },
    {
     "data": {
      "image/png": "[encoded data removed]",
      "text/plain": [
       "<Figure size 350x300 with 1 Axes>"
      ]
     },
     "metadata": {},
     "output_type": "display_data"
    },
    {
     "data": {
      "text/html": [
       "<div>\n",
       "<style scoped>\n",
       "    .dataframe tbody tr th:only-of-type {\n",
       "        vertical-align: middle;\n",
       "    }\n",
       "\n",
       "    .dataframe tbody tr th {\n",
       "        vertical-align: top;\n",
       "    }\n",
       "\n",
       "    .dataframe thead tr th {\n",
       "        text-align: left;\n",
       "    }\n",
       "\n",
       "    .dataframe thead tr:last-of-type th {\n",
       "        text-align: right;\n",
       "    }\n",
       "</style>\n",
       "<table border=\"1\" class=\"dataframe\">\n",
       "  <thead>\n",
       "    <tr>\n",
       "      <th></th>\n",
       "      <th colspan=\"2\" halign=\"left\">error_rate</th>\n",
       "      <th colspan=\"2\" halign=\"left\">delta_dp</th>\n",
       "      <th colspan=\"2\" halign=\"left\">delta_dp_rms</th>\n",
       "    </tr>\n",
       "    <tr>\n",
       "      <th></th>\n",
       "      <th>mean</th>\n",
       "      <th>std</th>\n",
       "      <th>mean</th>\n",
       "      <th>std</th>\n",
       "      <th>mean</th>\n",
       "      <th>std</th>\n",
       "    </tr>\n",
       "    <tr>\n",
       "      <th>alpha</th>\n",
       "      <th></th>\n",
       "      <th></th>\n",
       "      <th></th>\n",
       "      <th></th>\n",
       "      <th></th>\n",
       "      <th></th>\n",
       "    </tr>\n",
       "  </thead>\n",
       "  <tbody>\n",
       "    <tr>\n",
       "      <th>inf</th>\n",
       "      <td>0.140116</td>\n",
       "      <td>0.000561</td>\n",
       "      <td>0.087695</td>\n",
       "      <td>0.001227</td>\n",
       "      <td>0.023962</td>\n",
       "      <td>0.000218</td>\n",
       "    </tr>\n",
       "    <tr>\n",
       "      <th>0.0800</th>\n",
       "      <td>0.140320</td>\n",
       "      <td>0.000619</td>\n",
       "      <td>0.079705</td>\n",
       "      <td>0.002132</td>\n",
       "      <td>0.023063</td>\n",
       "      <td>0.000303</td>\n",
       "    </tr>\n",
       "    <tr>\n",
       "      <th>0.0700</th>\n",
       "      <td>0.140902</td>\n",
       "      <td>0.000676</td>\n",
       "      <td>0.069421</td>\n",
       "      <td>0.002454</td>\n",
       "      <td>0.021889</td>\n",
       "      <td>0.000324</td>\n",
       "    </tr>\n",
       "    <tr>\n",
       "      <th>0.0600</th>\n",
       "      <td>0.142077</td>\n",
       "      <td>0.000688</td>\n",
       "      <td>0.059571</td>\n",
       "      <td>0.002432</td>\n",
       "      <td>0.020873</td>\n",
       "      <td>0.000306</td>\n",
       "    </tr>\n",
       "    <tr>\n",
       "      <th>0.0500</th>\n",
       "      <td>0.143484</td>\n",
       "      <td>0.000680</td>\n",
       "      <td>0.049346</td>\n",
       "      <td>0.002538</td>\n",
       "      <td>0.019940</td>\n",
       "      <td>0.000280</td>\n",
       "    </tr>\n",
       "    <tr>\n",
       "      <th>0.0400</th>\n",
       "      <td>0.145288</td>\n",
       "      <td>0.000672</td>\n",
       "      <td>0.039726</td>\n",
       "      <td>0.002312</td>\n",
       "      <td>0.019139</td>\n",
       "      <td>0.000267</td>\n",
       "    </tr>\n",
       "    <tr>\n",
       "      <th>0.0300</th>\n",
       "      <td>0.147607</td>\n",
       "      <td>0.000706</td>\n",
       "      <td>0.031241</td>\n",
       "      <td>0.001377</td>\n",
       "      <td>0.017418</td>\n",
       "      <td>0.000321</td>\n",
       "    </tr>\n",
       "    <tr>\n",
       "      <th>0.0250</th>\n",
       "      <td>0.149683</td>\n",
       "      <td>0.000705</td>\n",
       "      <td>0.026770</td>\n",
       "      <td>0.001333</td>\n",
       "      <td>0.015786</td>\n",
       "      <td>0.000300</td>\n",
       "    </tr>\n",
       "    <tr>\n",
       "      <th>0.0200</th>\n",
       "      <td>0.152922</td>\n",
       "      <td>0.000755</td>\n",
       "      <td>0.022341</td>\n",
       "      <td>0.001498</td>\n",
       "      <td>0.013750</td>\n",
       "      <td>0.000252</td>\n",
       "    </tr>\n",
       "    <tr>\n",
       "      <th>0.0180</th>\n",
       "      <td>0.154624</td>\n",
       "      <td>0.000829</td>\n",
       "      <td>0.020455</td>\n",
       "      <td>0.001681</td>\n",
       "      <td>0.012829</td>\n",
       "      <td>0.000231</td>\n",
       "    </tr>\n",
       "    <tr>\n",
       "      <th>0.0160</th>\n",
       "      <td>0.156776</td>\n",
       "      <td>0.000650</td>\n",
       "      <td>0.018591</td>\n",
       "      <td>0.001800</td>\n",
       "      <td>0.011843</td>\n",
       "      <td>0.000198</td>\n",
       "    </tr>\n",
       "    <tr>\n",
       "      <th>0.0140</th>\n",
       "      <td>0.159444</td>\n",
       "      <td>0.000710</td>\n",
       "      <td>0.016867</td>\n",
       "      <td>0.001718</td>\n",
       "      <td>0.010639</td>\n",
       "      <td>0.000245</td>\n",
       "    </tr>\n",
       "    <tr>\n",
       "      <th>0.0120</th>\n",
       "      <td>0.162596</td>\n",
       "      <td>0.000630</td>\n",
       "      <td>0.015127</td>\n",
       "      <td>0.001516</td>\n",
       "      <td>0.009333</td>\n",
       "      <td>0.000228</td>\n",
       "    </tr>\n",
       "    <tr>\n",
       "      <th>0.0100</th>\n",
       "      <td>0.166180</td>\n",
       "      <td>0.000848</td>\n",
       "      <td>0.013330</td>\n",
       "      <td>0.001409</td>\n",
       "      <td>0.008058</td>\n",
       "      <td>0.000249</td>\n",
       "    </tr>\n",
       "    <tr>\n",
       "      <th>0.0080</th>\n",
       "      <td>0.169881</td>\n",
       "      <td>0.000948</td>\n",
       "      <td>0.011582</td>\n",
       "      <td>0.001483</td>\n",
       "      <td>0.006810</td>\n",
       "      <td>0.000261</td>\n",
       "    </tr>\n",
       "    <tr>\n",
       "      <th>0.0060</th>\n",
       "      <td>0.174297</td>\n",
       "      <td>0.000840</td>\n",
       "      <td>0.009640</td>\n",
       "      <td>0.001833</td>\n",
       "      <td>0.005492</td>\n",
       "      <td>0.000268</td>\n",
       "    </tr>\n",
       "    <tr>\n",
       "      <th>0.0040</th>\n",
       "      <td>0.179615</td>\n",
       "      <td>0.000969</td>\n",
       "      <td>0.007614</td>\n",
       "      <td>0.001873</td>\n",
       "      <td>0.003983</td>\n",
       "      <td>0.000284</td>\n",
       "    </tr>\n",
       "    <tr>\n",
       "      <th>0.0020</th>\n",
       "      <td>0.186560</td>\n",
       "      <td>0.000843</td>\n",
       "      <td>0.005914</td>\n",
       "      <td>0.001860</td>\n",
       "      <td>0.002474</td>\n",
       "      <td>0.000294</td>\n",
       "    </tr>\n",
       "    <tr>\n",
       "      <th>0.0010</th>\n",
       "      <td>0.190758</td>\n",
       "      <td>0.000824</td>\n",
       "      <td>0.004760</td>\n",
       "      <td>0.001898</td>\n",
       "      <td>0.001775</td>\n",
       "      <td>0.000407</td>\n",
       "    </tr>\n",
       "    <tr>\n",
       "      <th>0.0001</th>\n",
       "      <td>0.194602</td>\n",
       "      <td>0.000709</td>\n",
       "      <td>0.004635</td>\n",
       "      <td>0.001852</td>\n",
       "      <td>0.001551</td>\n",
       "      <td>0.000418</td>\n",
       "    </tr>\n",
       "  </tbody>\n",
       "</table>\n",
       "</div>"
      ],
      "text/plain": [
       "       error_rate            delta_dp           delta_dp_rms          \n",
       "             mean       std      mean       std         mean       std\n",
       "alpha                                                                 \n",
       "inf      0.140116  0.000561  0.087695  0.001227     0.023962  0.000218\n",
       "0.0800   0.140320  0.000619  0.079705  0.002132     0.023063  0.000303\n",
       "0.0700   0.140902  0.000676  0.069421  0.002454     0.021889  0.000324\n",
       "0.0600   0.142077  0.000688  0.059571  0.002432     0.020873  0.000306\n",
       "0.0500   0.143484  0.000680  0.049346  0.002538     0.019940  0.000280\n",
       "0.0400   0.145288  0.000672  0.039726  0.002312     0.019139  0.000267\n",
       "0.0300   0.147607  0.000706  0.031241  0.001377     0.017418  0.000321\n",
       "0.0250   0.149683  0.000705  0.026770  0.001333     0.015786  0.000300\n",
       "0.0200   0.152922  0.000755  0.022341  0.001498     0.013750  0.000252\n",
       "0.0180   0.154624  0.000829  0.020455  0.001681     0.012829  0.000231\n",
       "0.0160   0.156776  0.000650  0.018591  0.001800     0.011843  0.000198\n",
       "0.0140   0.159444  0.000710  0.016867  0.001718     0.010639  0.000245\n",
       "0.0120   0.162596  0.000630  0.015127  0.001516     0.009333  0.000228\n",
       "0.0100   0.166180  0.000848  0.013330  0.001409     0.008058  0.000249\n",
       "0.0080   0.169881  0.000948  0.011582  0.001483     0.006810  0.000261\n",
       "0.0060   0.174297  0.000840  0.009640  0.001833     0.005492  0.000268\n",
       "0.0040   0.179615  0.000969  0.007614  0.001873     0.003983  0.000284\n",
       "0.0020   0.186560  0.000843  0.005914  0.001860     0.002474  0.000294\n",
       "0.0010   0.190758  0.000824  0.004760  0.001898     0.001775  0.000407\n",
       "0.0001   0.194602  0.000709  0.004635  0.001852     0.001551  0.000418"
      ]
     },
     "metadata": {},
     "output_type": "display_data"
    }
   ],
   "source": [
    "alphas = [\n",
    "    np.inf, 0.08, 0.07, 0.06, 0.05, 0.04, 0.03, 0.025, 0.02, 0.018, 0.016,\n",
    "    0.014, 0.012, 0.01, 0.008, 0.006, 0.004, 0.002, 0.001, 0.0001\n",
    "]\n",
    "\n",
    "return_vals = process_map(\n",
    "    partial(\n",
    "        utils.postprocess,\n",
    "        postprocessor_factory=postprocess.PostProcessorDP,\n",
    "        evaluate_fn=partial(utils.evaluate,\n",
    "                            n_groups=n_groups,\n",
    "                            n_classes=n_classes,\n",
    "                            metrics=['delta_dp', 'delta_dp_rms']),\n",
    "        probas=probas_,\n",
    "        labels=labels_,\n",
    "        groups=groups_,\n",
    "        n_post=n_post,\n",
    "        n_test=n_test,\n",
    "    ),\n",
    "    [(alpha, seed) for alpha in alphas for seed in seeds],\n",
    "    max_workers=max_workers,\n",
    ")\n",
    "results = [{\n",
    "    'alpha': alpha,\n",
    "    **result\n",
    "} for alpha, _, result, _ in return_vals if result is not None]\n",
    "\n",
    "(fig, ax), df = utils.plot_results(results, 'delta_dp')\n",
    "ax.set_xlabel(\"$\\\\Delta_{\\\\mathrm{DP}}$\")\n",
    "ax.set_title(\"BiasBios (gender)\")\n",
    "plt.show()\n",
    "display(df)"
   ]
  },
  {
   "cell_type": "code",
   "execution_count": null,
   "id": "a7325577",
   "metadata": {
    "papermill": {
     "duration": 0.012564,
     "end_time": "2023-04-27T03:58:04.400419",
     "exception": false,
     "start_time": "2023-04-27T03:58:04.387855",
     "status": "completed"
    },
    "tags": []
   },
   "outputs": [],
   "source": []
  }
 ],
 "metadata": {
  "kernelspec": {
   "display_name": "fair",
   "language": "python",
   "name": "python3"
  },
  "language_info": {
   "codemirror_mode": {
    "name": "ipython",
    "version": 3
   },
   "file_extension": ".py",
   "mimetype": "text/x-python",
   "name": "python",
   "nbconvert_exporter": "python",
   "pygments_lexer": "ipython3",
   "version": "3.10.10"
  },
  "papermill": {
   "default_parameters": {},
   "duration": 1537.161595,
   "end_time": "2023-04-27T03:58:07.644507",
   "environment_variables": {},
   "exception": null,
   "input_path": "biasbios_.ipynb",
   "output_path": "biasbios.ipynb",
   "parameters": {},
   "start_time": "2023-04-27T03:32:30.482912",
   "version": "2.3.4"
  },
  "widgets": {
   "application/vnd.jupyter.widget-state+json": {
    "state": {
     "0a18f2dc4d7341b6b60f4103566cb0ba": {
      "model_module": "@jupyter-widgets/controls",
      "model_module_version": "2.0.0",
      "model_name": "HTMLModel",
      "state": {
       "_dom_classes": [],
       "_model_module": "@jupyter-widgets/controls",
       "_model_module_version": "2.0.0",
       "_model_name": "HTMLModel",
       "_view_count": null,
       "_view_module": "@jupyter-widgets/controls",
       "_view_module_version": "2.0.0",
       "_view_name": "HTMLView",
       "description": "",
       "description_allow_html": false,
       "layout": "IPY_MODEL_e0187db0d8fc406791a423cee1fa011a",
       "placeholder": "​",
       "style": "IPY_MODEL_1f79734f26e443dababbe607bf6cbaf0",
       "tabbable": null,
       "tooltip": null,
       "value": "100%"
      }
     },
     "1f79734f26e443dababbe607bf6cbaf0": {
      "model_module": "@jupyter-widgets/controls",
      "model_module_version": "2.0.0",
      "model_name": "HTMLStyleModel",
      "state": {
       "_model_module": "@jupyter-widgets/controls",
       "_model_module_version": "2.0.0",
       "_model_name": "HTMLStyleModel",
       "_view_count": null,
       "_view_module": "@jupyter-widgets/base",
       "_view_module_version": "2.0.0",
       "_view_name": "StyleView",
       "background": null,
       "description_width": "",
       "font_size": null,
       "text_color": null
      }
     },
     "2849066ee4f54f5faaa02b19c5af7cba": {
      "model_module": "@jupyter-widgets/controls",
      "model_module_version": "2.0.0",
      "model_name": "HBoxModel",
      "state": {
       "_dom_classes": [],
       "_model_module": "@jupyter-widgets/controls",
       "_model_module_version": "2.0.0",
       "_model_name": "HBoxModel",
       "_view_count": null,
       "_view_module": "@jupyter-widgets/controls",
       "_view_module_version": "2.0.0",
       "_view_name": "HBoxView",
       "box_style": "",
       "children": [
        "IPY_MODEL_0a18f2dc4d7341b6b60f4103566cb0ba",
        "IPY_MODEL_ead26d0e37bf44798b71daa139d73872",
        "IPY_MODEL_d7fa6190cb9d41b1a9eac899ceabc35d"
       ],
       "layout": "IPY_MODEL_92015f650e7444cb9e6303e083473dee",
       "tabbable": null,
       "tooltip": null
      }
     },
     "889c5d4f143d4a2784a83ad92b858600": {
      "model_module": "@jupyter-widgets/base",
      "model_module_version": "2.0.0",
      "model_name": "LayoutModel",
      "state": {
       "_model_module": "@jupyter-widgets/base",
       "_model_module_version": "2.0.0",
       "_model_name": "LayoutModel",
       "_view_count": null,
       "_view_module": "@jupyter-widgets/base",
       "_view_module_version": "2.0.0",
       "_view_name": "LayoutView",
       "align_content": null,
       "align_items": null,
       "align_self": null,
       "border_bottom": null,
       "border_left": null,
       "border_right": null,
       "border_top": null,
       "bottom": null,
       "display": null,
       "flex": null,
       "flex_flow": null,
       "grid_area": null,
       "grid_auto_columns": null,
       "grid_auto_flow": null,
       "grid_auto_rows": null,
       "grid_column": null,
       "grid_gap": null,
       "grid_row": null,
       "grid_template_areas": null,
       "grid_template_columns": null,
       "grid_template_rows": null,
       "height": null,
       "justify_content": null,
       "justify_items": null,
       "left": null,
       "margin": null,
       "max_height": null,
       "max_width": null,
       "min_height": null,
       "min_width": null,
       "object_fit": null,
       "object_position": null,
       "order": null,
       "overflow": null,
       "padding": null,
       "right": null,
       "top": null,
       "visibility": null,
       "width": null
      }
     },
     "904b3837729f47d3a33b110bc5408cec": {
      "model_module": "@jupyter-widgets/base",
      "model_module_version": "2.0.0",
      "model_name": "LayoutModel",
      "state": {
       "_model_module": "@jupyter-widgets/base",
       "_model_module_version": "2.0.0",
       "_model_name": "LayoutModel",
       "_view_count": null,
       "_view_module": "@jupyter-widgets/base",
       "_view_module_version": "2.0.0",
       "_view_name": "LayoutView",
       "align_content": null,
       "align_items": null,
       "align_self": null,
       "border_bottom": null,
       "border_left": null,
       "border_right": null,
       "border_top": null,
       "bottom": null,
       "display": null,
       "flex": null,
       "flex_flow": null,
       "grid_area": null,
       "grid_auto_columns": null,
       "grid_auto_flow": null,
       "grid_auto_rows": null,
       "grid_column": null,
       "grid_gap": null,
       "grid_row": null,
       "grid_template_areas": null,
       "grid_template_columns": null,
       "grid_template_rows": null,
       "height": null,
       "justify_content": null,
       "justify_items": null,
       "left": null,
       "margin": null,
       "max_height": null,
       "max_width": null,
       "min_height": null,
       "min_width": null,
       "object_fit": null,
       "object_position": null,
       "order": null,
       "overflow": null,
       "padding": null,
       "right": null,
       "top": null,
       "visibility": null,
       "width": null
      }
     },
     "92015f650e7444cb9e6303e083473dee": {
      "model_module": "@jupyter-widgets/base",
      "model_module_version": "2.0.0",
      "model_name": "LayoutModel",
      "state": {
       "_model_module": "@jupyter-widgets/base",
       "_model_module_version": "2.0.0",
       "_model_name": "LayoutModel",
       "_view_count": null,
       "_view_module": "@jupyter-widgets/base",
       "_view_module_version": "2.0.0",
       "_view_name": "LayoutView",
       "align_content": null,
       "align_items": null,
       "align_self": null,
       "border_bottom": null,
       "border_left": null,
       "border_right": null,
       "border_top": null,
       "bottom": null,
       "display": null,
       "flex": null,
       "flex_flow": null,
       "grid_area": null,
       "grid_auto_columns": null,
       "grid_auto_flow": null,
       "grid_auto_rows": null,
       "grid_column": null,
       "grid_gap": null,
       "grid_row": null,
       "grid_template_areas": null,
       "grid_template_columns": null,
       "grid_template_rows": null,
       "height": null,
       "justify_content": null,
       "justify_items": null,
       "left": null,
       "margin": null,
       "max_height": null,
       "max_width": null,
       "min_height": null,
       "min_width": null,
       "object_fit": null,
       "object_position": null,
       "order": null,
       "overflow": null,
       "padding": null,
       "right": null,
       "top": null,
       "visibility": null,
       "width": null
      }
     },
     "9357c4cf62b446418a49d79a9a2b3acb": {
      "model_module": "@jupyter-widgets/controls",
      "model_module_version": "2.0.0",
      "model_name": "HTMLStyleModel",
      "state": {
       "_model_module": "@jupyter-widgets/controls",
       "_model_module_version": "2.0.0",
       "_model_name": "HTMLStyleModel",
       "_view_count": null,
       "_view_module": "@jupyter-widgets/base",
       "_view_module_version": "2.0.0",
       "_view_name": "StyleView",
       "background": null,
       "description_width": "",
       "font_size": null,
       "text_color": null
      }
     },
     "ad605adef18b47f38b210af998311b9d": {
      "model_module": "@jupyter-widgets/controls",
      "model_module_version": "2.0.0",
      "model_name": "ProgressStyleModel",
      "state": {
       "_model_module": "@jupyter-widgets/controls",
       "_model_module_version": "2.0.0",
       "_model_name": "ProgressStyleModel",
       "_view_count": null,
       "_view_module": "@jupyter-widgets/base",
       "_view_module_version": "2.0.0",
       "_view_name": "StyleView",
       "bar_color": null,
       "description_width": ""
      }
     },
     "d7fa6190cb9d41b1a9eac899ceabc35d": {
      "model_module": "@jupyter-widgets/controls",
      "model_module_version": "2.0.0",
      "model_name": "HTMLModel",
      "state": {
       "_dom_classes": [],
       "_model_module": "@jupyter-widgets/controls",
       "_model_module_version": "2.0.0",
       "_model_name": "HTMLModel",
       "_view_count": null,
       "_view_module": "@jupyter-widgets/controls",
       "_view_module_version": "2.0.0",
       "_view_name": "HTMLView",
       "description": "",
       "description_allow_html": false,
       "layout": "IPY_MODEL_889c5d4f143d4a2784a83ad92b858600",
       "placeholder": "​",
       "style": "IPY_MODEL_9357c4cf62b446418a49d79a9a2b3acb",
       "tabbable": null,
       "tooltip": null,
       "value": " 200/200 [25:13&lt;00:00,  6.41s/it]"
      }
     },
     "e0187db0d8fc406791a423cee1fa011a": {
      "model_module": "@jupyter-widgets/base",
      "model_module_version": "2.0.0",
      "model_name": "LayoutModel",
      "state": {
       "_model_module": "@jupyter-widgets/base",
       "_model_module_version": "2.0.0",
       "_model_name": "LayoutModel",
       "_view_count": null,
       "_view_module": "@jupyter-widgets/base",
       "_view_module_version": "2.0.0",
       "_view_name": "LayoutView",
       "align_content": null,
       "align_items": null,
       "align_self": null,
       "border_bottom": null,
       "border_left": null,
       "border_right": null,
       "border_top": null,
       "bottom": null,
       "display": null,
       "flex": null,
       "flex_flow": null,
       "grid_area": null,
       "grid_auto_columns": null,
       "grid_auto_flow": null,
       "grid_auto_rows": null,
       "grid_column": null,
       "grid_gap": null,
       "grid_row": null,
       "grid_template_areas": null,
       "grid_template_columns": null,
       "grid_template_rows": null,
       "height": null,
       "justify_content": null,
       "justify_items": null,
       "left": null,
       "margin": null,
       "max_height": null,
       "max_width": null,
       "min_height": null,
       "min_width": null,
       "object_fit": null,
       "object_position": null,
       "order": null,
       "overflow": null,
       "padding": null,
       "right": null,
       "top": null,
       "visibility": null,
       "width": null
      }
     },
     "ead26d0e37bf44798b71daa139d73872": {
      "model_module": "@jupyter-widgets/controls",
      "model_module_version": "2.0.0",
      "model_name": "FloatProgressModel",
      "state": {
       "_dom_classes": [],
       "_model_module": "@jupyter-widgets/controls",
       "_model_module_version": "2.0.0",
       "_model_name": "FloatProgressModel",
       "_view_count": null,
       "_view_module": "@jupyter-widgets/controls",
       "_view_module_version": "2.0.0",
       "_view_name": "ProgressView",
       "bar_style": "success",
       "description": "",
       "description_allow_html": false,
       "layout": "IPY_MODEL_904b3837729f47d3a33b110bc5408cec",
       "max": 200,
       "min": 0,
       "orientation": "horizontal",
       "style": "IPY_MODEL_ad605adef18b47f38b210af998311b9d",
       "tabbable": null,
       "tooltip": null,
       "value": 200
      }
     }
    },
    "version_major": 2,
    "version_minor": 0
   }
  }
 },
 "nbformat": 4,
 "nbformat_minor": 5
}
